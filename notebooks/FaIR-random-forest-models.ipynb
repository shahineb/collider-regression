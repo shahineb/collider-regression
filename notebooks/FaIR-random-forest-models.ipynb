{
 "cells": [
  {
   "cell_type": "code",
   "execution_count": 1,
   "id": "f9fd22f9",
   "metadata": {},
   "outputs": [],
   "source": [
    "import os\n",
    "import sys\n",
    "import yaml\n",
    "import torch\n",
    "from sklearn.linear_model import LinearRegression\n",
    "from sklearn.ensemble import RandomForestRegressor\n",
    "from sklearn.model_selection import GridSearchCV\n",
    "from collections import defaultdict\n",
    "import tqdm\n",
    "import json\n",
    "import pickle\n",
    "\n",
    "base_dir = os.path.join(os.getcwd(), '..')\n",
    "sys.path.append(base_dir)\n",
    "\n",
    "import run_FaIR_experiment as main"
   ]
  },
  {
   "cell_type": "markdown",
   "id": "c097614e",
   "metadata": {},
   "source": [
    "### CV Gridsearch RF hyperparameters"
   ]
  },
  {
   "cell_type": "code",
   "execution_count": 2,
   "id": "bc16ecf5",
   "metadata": {},
   "outputs": [],
   "source": [
    "# Load config file\n",
    "with open('../config/runs/FaIR_experiment.yaml', \"r\") as f:\n",
    "    cfg = yaml.safe_load(f)\n",
    "cfg['data']['Xtrain_path'] = '../data/FaIR/Xtrain.pt'\n",
    "cfg['data']['Ytrain_path'] = '../data/FaIR/Ytrain.pt'\n",
    "\n",
    "cfg['data']['seed'] = 2\n",
    "cfg['data']['n'] = 400\n",
    "cfg['data']['semi_prop'] = 400\n",
    "data = main.make_data(cfg=cfg)\n",
    "\n",
    "Xtrain = (data.Xtrain - data.mu_X)\n",
    "Ytrain = (data.Ytrain - data.mu_Y)\n",
    "Xsemitrain = (data.Xsemitrain - data.mu_X)"
   ]
  },
  {
   "cell_type": "code",
   "execution_count": 5,
   "id": "5b535987",
   "metadata": {},
   "outputs": [
    {
     "name": "stdout",
     "output_type": "stream",
     "text": [
      "RandomForestRegressor(max_depth=5, min_samples_leaf=10, n_estimators=200,\n",
      "                      random_state=2000)\n"
     ]
    }
   ],
   "source": [
    "# Load pretrained model\n",
    "with open('FaIR-RF.pkl', 'rb') as f:\n",
    "    rf = pickle.load(f)\n",
    "print(rf)"
   ]
  },
  {
   "cell_type": "code",
   "execution_count": 3,
   "id": "0a5f2b78",
   "metadata": {},
   "outputs": [
    {
     "name": "stdout",
     "output_type": "stream",
     "text": [
      "0.02112980691849651\n",
      "{'max_depth': 5, 'min_samples_leaf': 10, 'min_samples_split': 2, 'n_estimators': 200}\n"
     ]
    }
   ],
   "source": [
    "# # Or redo grid search\n",
    "# param_grid = {'n_estimators': [200, 300, 400],\n",
    "#               'max_depth': [5, 10, 20],\n",
    "#               'min_samples_split': [2, 5, 10],\n",
    "#               'min_samples_leaf': [2, 5, 10]}\n",
    "# rf = RandomForestRegressor(random_state=2000)\n",
    "# rf_cv_search = GridSearchCV(rf, param_grid, n_jobs=4)\n",
    "# rf_cv_search.fit(Xtrain, Ytrain.flatten())\n",
    "\n",
    "# print(rf_cv_search.best_score_)\n",
    "# print(rf_cv_search.best_params_)\n",
    "\n",
    "# with open('FaIR-RF.pkl', 'wb') as f:\n",
    "#     pickle.dump(rf_cv_search.best_estimator_, f)\n",
    "# with open('FaIR-RF_best_params.json', 'w') as f:\n",
    "#     json.dump(rf_cv_search.best_params_, f)\n",
    "# with open('FaIR-RF.pkl', 'rb') as f:\n",
    "#     rf = pickle.load(f)"
   ]
  },
  {
   "cell_type": "markdown",
   "id": "77d3fc29",
   "metadata": {},
   "source": [
    "### Run with multiple seeds for dataset"
   ]
  },
  {
   "cell_type": "code",
   "execution_count": 6,
   "id": "3fbe5a89",
   "metadata": {},
   "outputs": [],
   "source": [
    "with open('../config/runs/FaIR_experiment.yaml', \"r\") as f:\n",
    "    cfg = yaml.safe_load(f)\n",
    "cfg['data']['Xtrain_path'] = '../data/FaIR/Xtrain.pt'\n",
    "cfg['data']['Ytrain_path'] = '../data/FaIR/Ytrain.pt'\n",
    "\n",
    "Xtest = torch.load('../data/FaIR/Xval.pt') - data.mu_X\n",
    "Ytest = torch.load('../data/FaIR/Yval.pt').squeeze() - data.mu_Y\n",
    "zero_mse = torch.square(Ytest).mean()\n",
    "\n",
    "lr = LinearRegression()"
   ]
  },
  {
   "cell_type": "code",
   "execution_count": 5,
   "id": "5355e1a6",
   "metadata": {},
   "outputs": [],
   "source": [
    "def run(seed):\n",
    "    cfg['data']['seed'] = seed\n",
    "    data = main.make_data(cfg=cfg)\n",
    "    Xtrain = (data.Xtrain - data.mu_X)\n",
    "    Ytrain = (data.Ytrain - data.mu_Y)\n",
    "    Xsemitrain = (data.Xsemitrain - data.mu_X)\n",
    "    \n",
    "    rf.fit(Xtrain, Ytrain.flatten())\n",
    "    lr.fit(Xsemitrain[:, -data.d_X2:], rf.predict(Xsemitrain))\n",
    "    \n",
    "    pred_baseline = torch.from_numpy(rf.predict(Xtest))\n",
    "    pred_after = pred_baseline - lr.predict(Xtest[:, -data.d_X2:])\n",
    "\n",
    "    baseline_mse = torch.square(pred_baseline - Ytest.flatten()).mean() / zero_mse\n",
    "    after_mse = torch.square(pred_after - Ytest.flatten()).mean() / zero_mse\n",
    "    \n",
    "    baseline_snr = 10 * torch.log10(torch.square(Ytest).sum() / torch.square(Ytest.squeeze() - pred_baseline).sum())\n",
    "    after_snr = 10 * torch.log10(torch.square(Ytest).sum() / torch.square(Ytest.squeeze() - pred_after).sum())\n",
    "    \n",
    "    baseline_corr = torch.corrcoef(torch.stack([Ytest.squeeze(), pred_baseline]))[0, 1]\n",
    "    after_corr = torch.corrcoef(torch.stack([Ytest.squeeze(), pred_after]))[0, 1]\n",
    "\n",
    "    output = {'mse-baseline': baseline_mse.item(),\n",
    "              'mse-after': after_mse.item(),\n",
    "              'snr-baseline': baseline_snr.item(),\n",
    "              'snr-after': after_snr.item(),\n",
    "              'corr-baseline': baseline_corr.item(),\n",
    "              'corr-after': after_corr.item()}\n",
    "    return output"
   ]
  },
  {
   "cell_type": "code",
   "execution_count": 6,
   "id": "911458dc",
   "metadata": {},
   "outputs": [
    {
     "data": {
      "application/vnd.jupyter.widget-view+json": {
       "model_id": "c891d8be9ca24fa8b428273b1d842db6",
       "version_major": 2,
       "version_minor": 0
      },
      "text/plain": [
       "  0%|          | 0/100 [00:00<?, ?it/s]"
      ]
     },
     "metadata": {},
     "output_type": "display_data"
    }
   ],
   "source": [
    "scores = defaultdict(list)\n",
    "for seed in tqdm.notebook.tqdm(range(1, 101)):\n",
    "    run_scores = run(seed)\n",
    "    scores['mse-baseline'].append(run_scores['mse-baseline'])\n",
    "    scores['mse-after'].append(run_scores['mse-after'])\n",
    "    scores['snr-baseline'].append(run_scores['snr-baseline'])\n",
    "    scores['snr-after'].append(run_scores['snr-after'])\n",
    "    scores['corr-baseline'].append(run_scores['corr-baseline'])\n",
    "    scores['corr-after'].append(run_scores['corr-after'])\n",
    "\n",
    "dump_dir = '../experiments/data/outputs/seeds/FaIR_experiment/RF/'\n",
    "os.makedirs(dump_dir, exist_ok=True)\n",
    "dump_path = os.path.join(dump_dir, 'scores.metrics')\n",
    "with open(dump_path, 'w') as f:\n",
    "    yaml.dump(dict(scores), f)"
   ]
  },
  {
   "cell_type": "markdown",
   "id": "cfce810f",
   "metadata": {},
   "source": [
    "### Vary number of training samples"
   ]
  },
  {
   "cell_type": "code",
   "execution_count": 9,
   "id": "12e0b918",
   "metadata": {},
   "outputs": [],
   "source": [
    "with open('../config/runs/FaIR_experiment.yaml', \"r\") as f:\n",
    "    cfg = yaml.safe_load(f)\n",
    "cfg['data']['Xtrain_path'] = '../data/FaIR/Xtrain.pt'\n",
    "cfg['data']['Ytrain_path'] = '../data/FaIR/Ytrain.pt'\n",
    "\n",
    "Xtest = torch.load('../data/FaIR/Xval.pt') - data.mu_X\n",
    "Ytest = torch.load('../data/FaIR/Yval.pt').squeeze() - data.mu_Y\n",
    "zero_mse = torch.square(Ytest).mean()\n",
    "\n",
    "lr = LinearRegression()"
   ]
  },
  {
   "cell_type": "code",
   "execution_count": 10,
   "id": "fa57f763",
   "metadata": {},
   "outputs": [],
   "source": [
    "def run(n_train, seed):\n",
    "    cfg['data']['n'] = n_train\n",
    "    cfg['data']['seed'] = seed\n",
    "    data = main.make_data(cfg=cfg)\n",
    "    Xtrain = (data.Xtrain - data.mu_X)\n",
    "    Ytrain = (data.Ytrain - data.mu_Y)\n",
    "    Xsemitrain = (data.Xsemitrain - data.mu_X)\n",
    "    \n",
    "    rf.fit(Xtrain, Ytrain.flatten())\n",
    "    lr.fit(Xsemitrain[:, -data.d_X2:], rf.predict(Xsemitrain))\n",
    "    \n",
    "    pred_baseline = torch.from_numpy(rf.predict(Xtest))\n",
    "    pred_after = pred_baseline - lr.predict(Xtest[:, -data.d_X2:])\n",
    "\n",
    "    baseline_mse = torch.square(pred_baseline - Ytest.flatten()).mean() / zero_mse\n",
    "    after_mse = torch.square(pred_after - Ytest.flatten()).mean() / zero_mse\n",
    "    return {'baseline': baseline_mse.item(), 'after': after_mse.item()}"
   ]
  },
  {
   "cell_type": "code",
   "execution_count": 11,
   "id": "0c522060",
   "metadata": {},
   "outputs": [
    {
     "data": {
      "application/vnd.jupyter.widget-view+json": {
       "model_id": "2138a2c0cbf441449fb9b12432147bd4",
       "version_major": 2,
       "version_minor": 0
      },
      "text/plain": [
       "  0%|          | 0/40 [00:00<?, ?it/s]"
      ]
     },
     "metadata": {},
     "output_type": "display_data"
    },
    {
     "data": {
      "application/vnd.jupyter.widget-view+json": {
       "model_id": "8672616f18f140b9b5624e2d0b7845e2",
       "version_major": 2,
       "version_minor": 0
      },
      "text/plain": [
       "  0%|          | 0/40 [00:00<?, ?it/s]"
      ]
     },
     "metadata": {},
     "output_type": "display_data"
    },
    {
     "data": {
      "application/vnd.jupyter.widget-view+json": {
       "model_id": "c748da2015564eb7891d6ec1bfd4c64c",
       "version_major": 2,
       "version_minor": 0
      },
      "text/plain": [
       "  0%|          | 0/40 [00:00<?, ?it/s]"
      ]
     },
     "metadata": {},
     "output_type": "display_data"
    },
    {
     "data": {
      "application/vnd.jupyter.widget-view+json": {
       "model_id": "4edeac8f53934b07af288e5009f81528",
       "version_major": 2,
       "version_minor": 0
      },
      "text/plain": [
       "  0%|          | 0/40 [00:00<?, ?it/s]"
      ]
     },
     "metadata": {},
     "output_type": "display_data"
    },
    {
     "data": {
      "application/vnd.jupyter.widget-view+json": {
       "model_id": "64c78caae9f544d68932412e652f08d5",
       "version_major": 2,
       "version_minor": 0
      },
      "text/plain": [
       "  0%|          | 0/40 [00:00<?, ?it/s]"
      ]
     },
     "metadata": {},
     "output_type": "display_data"
    },
    {
     "data": {
      "application/vnd.jupyter.widget-view+json": {
       "model_id": "3e0a3e93205b45938ff1af5650b26ba3",
       "version_major": 2,
       "version_minor": 0
      },
      "text/plain": [
       "  0%|          | 0/40 [00:00<?, ?it/s]"
      ]
     },
     "metadata": {},
     "output_type": "display_data"
    },
    {
     "data": {
      "application/vnd.jupyter.widget-view+json": {
       "model_id": "62aaa28b9f0947d583c2722d8dc66e7c",
       "version_major": 2,
       "version_minor": 0
      },
      "text/plain": [
       "  0%|          | 0/40 [00:00<?, ?it/s]"
      ]
     },
     "metadata": {},
     "output_type": "display_data"
    },
    {
     "data": {
      "application/vnd.jupyter.widget-view+json": {
       "model_id": "090829a3f9a948f9a86e609e214911f8",
       "version_major": 2,
       "version_minor": 0
      },
      "text/plain": [
       "  0%|          | 0/40 [00:00<?, ?it/s]"
      ]
     },
     "metadata": {},
     "output_type": "display_data"
    }
   ],
   "source": [
    "scores = {'baseline':[], 'after':[], 'n_train': [], 'seed': []}\n",
    "for n_train in [10, 20, 40, 60, 80, 100, 150, 200]:\n",
    "    for seed in tqdm.notebook.tqdm(range(1, 41)):\n",
    "        mse = run(n_train, seed)\n",
    "        scores['baseline'].append(mse['baseline'])\n",
    "        scores['after'].append(mse['after'])\n",
    "        scores['seed'].append(seed)\n",
    "        scores['n_train'].append(n_train)\n",
    "dump_dir = '../experiments/data/outputs/n_train/FaIR_experiment/RF/'\n",
    "os.makedirs(dump_dir, exist_ok=True)\n",
    "dump_path = os.path.join(dump_dir, 'scores.metrics')\n",
    "with open(dump_path, 'w') as f:\n",
    "    yaml.dump(dict(scores), f)"
   ]
  },
  {
   "cell_type": "markdown",
   "id": "330446c3",
   "metadata": {},
   "source": [
    "### Vary number of semi-supervised samples"
   ]
  },
  {
   "cell_type": "code",
   "execution_count": 13,
   "id": "18d1ffbe",
   "metadata": {},
   "outputs": [],
   "source": [
    "with open('../config/runs/FaIR_experiment.yaml', \"r\") as f:\n",
    "    cfg = yaml.safe_load(f)\n",
    "cfg['data']['Xtrain_path'] = '../data/FaIR/Xtrain.pt'\n",
    "cfg['data']['Ytrain_path'] = '../data/FaIR/Ytrain.pt'\n",
    "\n",
    "Xtest = torch.load('../data/FaIR/Xval.pt') - data.mu_X\n",
    "Ytest = torch.load('../data/FaIR/Yval.pt').squeeze() - data.mu_Y\n",
    "zero_mse = torch.square(Ytest).mean()\n",
    "\n",
    "lr = LinearRegression()"
   ]
  },
  {
   "cell_type": "code",
   "execution_count": 14,
   "id": "15ccdece",
   "metadata": {},
   "outputs": [],
   "source": [
    "def run(semi_prop, seed):\n",
    "    cfg['data']['semi_prop'] = semi_prop\n",
    "    cfg['data']['seed'] = seed\n",
    "    data = main.make_data(cfg=cfg)\n",
    "    Xtrain = (data.Xtrain - data.mu_X)\n",
    "    Ytrain = (data.Ytrain - data.mu_Y)\n",
    "    Xsemitrain = (data.Xsemitrain - data.mu_X)\n",
    "    \n",
    "    rf.fit(Xtrain, Ytrain.flatten())\n",
    "    lr.fit(Xsemitrain[:, -data.d_X2:], rf.predict(Xsemitrain))\n",
    "    \n",
    "    pred_baseline = torch.from_numpy(rf.predict(Xtest))\n",
    "    pred_after = pred_baseline - lr.predict(Xtest[:, -data.d_X2:])\n",
    "\n",
    "    baseline_mse = torch.square(pred_baseline - Ytest.flatten()).mean() / zero_mse\n",
    "    after_mse = torch.square(pred_after - Ytest.flatten()).mean() / zero_mse\n",
    "    return {'baseline': baseline_mse.item(), 'after': after_mse.item()}"
   ]
  },
  {
   "cell_type": "code",
   "execution_count": 15,
   "id": "9eb36ac5",
   "metadata": {},
   "outputs": [
    {
     "data": {
      "application/vnd.jupyter.widget-view+json": {
       "model_id": "cf2b4910bc7c422bb5d93185395707a6",
       "version_major": 2,
       "version_minor": 0
      },
      "text/plain": [
       "  0%|          | 0/40 [00:00<?, ?it/s]"
      ]
     },
     "metadata": {},
     "output_type": "display_data"
    },
    {
     "data": {
      "application/vnd.jupyter.widget-view+json": {
       "model_id": "b4e8be02ec3949ef9de59642ac85199e",
       "version_major": 2,
       "version_minor": 0
      },
      "text/plain": [
       "  0%|          | 0/40 [00:00<?, ?it/s]"
      ]
     },
     "metadata": {},
     "output_type": "display_data"
    },
    {
     "data": {
      "application/vnd.jupyter.widget-view+json": {
       "model_id": "16bc781c0efa4d05aeb26959951eb9b4",
       "version_major": 2,
       "version_minor": 0
      },
      "text/plain": [
       "  0%|          | 0/40 [00:00<?, ?it/s]"
      ]
     },
     "metadata": {},
     "output_type": "display_data"
    },
    {
     "data": {
      "application/vnd.jupyter.widget-view+json": {
       "model_id": "21486a764d464518a96218aa858bdced",
       "version_major": 2,
       "version_minor": 0
      },
      "text/plain": [
       "  0%|          | 0/40 [00:00<?, ?it/s]"
      ]
     },
     "metadata": {},
     "output_type": "display_data"
    },
    {
     "data": {
      "application/vnd.jupyter.widget-view+json": {
       "model_id": "e44f9eabef80484383e285c564b3971a",
       "version_major": 2,
       "version_minor": 0
      },
      "text/plain": [
       "  0%|          | 0/40 [00:00<?, ?it/s]"
      ]
     },
     "metadata": {},
     "output_type": "display_data"
    },
    {
     "data": {
      "application/vnd.jupyter.widget-view+json": {
       "model_id": "ad6566d34b62418ba5d5427231e70b13",
       "version_major": 2,
       "version_minor": 0
      },
      "text/plain": [
       "  0%|          | 0/40 [00:00<?, ?it/s]"
      ]
     },
     "metadata": {},
     "output_type": "display_data"
    },
    {
     "data": {
      "application/vnd.jupyter.widget-view+json": {
       "model_id": "949adacbbe7f4cd99d3abb9f5ae2581a",
       "version_major": 2,
       "version_minor": 0
      },
      "text/plain": [
       "  0%|          | 0/40 [00:00<?, ?it/s]"
      ]
     },
     "metadata": {},
     "output_type": "display_data"
    },
    {
     "data": {
      "application/vnd.jupyter.widget-view+json": {
       "model_id": "ee618e26f7f6420ebf62af16f90541af",
       "version_major": 2,
       "version_minor": 0
      },
      "text/plain": [
       "  0%|          | 0/40 [00:00<?, ?it/s]"
      ]
     },
     "metadata": {},
     "output_type": "display_data"
    },
    {
     "data": {
      "application/vnd.jupyter.widget-view+json": {
       "model_id": "9e09c25a8bd548acb5fbd5a8532da34e",
       "version_major": 2,
       "version_minor": 0
      },
      "text/plain": [
       "  0%|          | 0/40 [00:00<?, ?it/s]"
      ]
     },
     "metadata": {},
     "output_type": "display_data"
    }
   ],
   "source": [
    "scores = {'baseline':[], 'after':[], 'semi_prop': [], 'seed': []}\n",
    "for semi_prop in [0, 25, 50, 100, 200, 400, 600, 800, 1000]:\n",
    "    for seed in tqdm.notebook.tqdm(range(1, 41)):\n",
    "        mse = run(semi_prop, seed)\n",
    "        scores['baseline'].append(mse['baseline'])\n",
    "        scores['after'].append(mse['after'])\n",
    "        scores['seed'].append(seed)\n",
    "        scores['semi_prop'].append(semi_prop)\n",
    "dump_dir = '../experiments/data/outputs/semi_prop/FaIR_experiment/RF/'\n",
    "os.makedirs(dump_dir, exist_ok=True)\n",
    "dump_path = os.path.join(dump_dir, 'scores.metrics')\n",
    "with open(dump_path, 'w') as f:\n",
    "    yaml.dump(dict(scores), f)"
   ]
  },
  {
   "cell_type": "markdown",
   "id": "38789197",
   "metadata": {},
   "source": [
    "### Vary dimensionality of $X_2$"
   ]
  },
  {
   "cell_type": "code",
   "execution_count": 14,
   "id": "ce83b5b8",
   "metadata": {},
   "outputs": [],
   "source": [
    "# Load config file\n",
    "with open('../config/runs/mvn_experiment.yaml', \"r\") as f:\n",
    "    cfg = yaml.safe_load(f)\n",
    "data = main.make_data(cfg=cfg, builder=main.mvn.build_data_generator)\n",
    "with open('RF_best_params.json', 'r') as f:\n",
    "    rf_params = json.load(f)"
   ]
  },
  {
   "cell_type": "code",
   "execution_count": 15,
   "id": "8f3c371a",
   "metadata": {},
   "outputs": [],
   "source": [
    "def run(d_X2, seed):\n",
    "    cfg['data']['d_X2'] = d_X2\n",
    "    cfg['data']['seed'] = seed\n",
    "    data = main.make_data(cfg=cfg, builder=main.mvn.build_data_generator)\n",
    "    Xtest, Ytest = data.generate(n=cfg['evaluation']['n_test'], seed=seed + 1)\n",
    "    \n",
    "    local_rf = RandomForestRegressor(random_state=2000, **rf_params)\n",
    "    lr = Ridge(alpha=1.)\n",
    "\n",
    "    local_rf.fit(data.Xtrain, data.Ytrain.flatten())\n",
    "    lr.fit(data.Xsemitrain[:, -data.d_X2:], local_rf.predict(data.Xsemitrain))\n",
    "    \n",
    "    pred_baseline = torch.from_numpy(local_rf.predict(Xtest))\n",
    "    pred_after = pred_baseline - lr.predict(Xtest[:, -data.d_X2:])\n",
    "\n",
    "    baseline_mse = torch.square(pred_baseline - Ytest.flatten()).mean()\n",
    "    after_mse = torch.square(pred_after - Ytest.flatten()).mean()\n",
    "    return {'baseline': baseline_mse.item(), 'after': after_mse.item()}"
   ]
  },
  {
   "cell_type": "code",
   "execution_count": 16,
   "id": "3274eac9",
   "metadata": {
    "scrolled": true
   },
   "outputs": [
    {
     "data": {
      "application/vnd.jupyter.widget-view+json": {
       "model_id": "77813b8e443949c1864cea0fec329324",
       "version_major": 2,
       "version_minor": 0
      },
      "text/plain": [
       "  0%|          | 0/40 [00:00<?, ?it/s]"
      ]
     },
     "metadata": {},
     "output_type": "display_data"
    },
    {
     "data": {
      "application/vnd.jupyter.widget-view+json": {
       "model_id": "9c5a940989a84dcfb76631dd97f90080",
       "version_major": 2,
       "version_minor": 0
      },
      "text/plain": [
       "  0%|          | 0/40 [00:00<?, ?it/s]"
      ]
     },
     "metadata": {},
     "output_type": "display_data"
    },
    {
     "data": {
      "application/vnd.jupyter.widget-view+json": {
       "model_id": "e2e60ce89e5f49de9e75215f6cee170c",
       "version_major": 2,
       "version_minor": 0
      },
      "text/plain": [
       "  0%|          | 0/40 [00:00<?, ?it/s]"
      ]
     },
     "metadata": {},
     "output_type": "display_data"
    },
    {
     "data": {
      "application/vnd.jupyter.widget-view+json": {
       "model_id": "328cbb947ae8417b8429426e1890a24a",
       "version_major": 2,
       "version_minor": 0
      },
      "text/plain": [
       "  0%|          | 0/40 [00:00<?, ?it/s]"
      ]
     },
     "metadata": {},
     "output_type": "display_data"
    },
    {
     "data": {
      "application/vnd.jupyter.widget-view+json": {
       "model_id": "2fa95348ef624bc4bbf7d4f510a4956a",
       "version_major": 2,
       "version_minor": 0
      },
      "text/plain": [
       "  0%|          | 0/40 [00:00<?, ?it/s]"
      ]
     },
     "metadata": {},
     "output_type": "display_data"
    },
    {
     "data": {
      "application/vnd.jupyter.widget-view+json": {
       "model_id": "ee7d8508a5824605be1ee1a6e6cdb807",
       "version_major": 2,
       "version_minor": 0
      },
      "text/plain": [
       "  0%|          | 0/40 [00:00<?, ?it/s]"
      ]
     },
     "metadata": {},
     "output_type": "display_data"
    },
    {
     "data": {
      "application/vnd.jupyter.widget-view+json": {
       "model_id": "8ee361f7afbc4a7aa978413e2ee86dd0",
       "version_major": 2,
       "version_minor": 0
      },
      "text/plain": [
       "  0%|          | 0/40 [00:00<?, ?it/s]"
      ]
     },
     "metadata": {},
     "output_type": "display_data"
    },
    {
     "data": {
      "application/vnd.jupyter.widget-view+json": {
       "model_id": "4d082fdcce2c4641b4ef6590424d4131",
       "version_major": 2,
       "version_minor": 0
      },
      "text/plain": [
       "  0%|          | 0/40 [00:00<?, ?it/s]"
      ]
     },
     "metadata": {},
     "output_type": "display_data"
    }
   ],
   "source": [
    "scores = {'baseline':[], 'after':[], 'd_X2': [], 'seed': []}\n",
    "for d_X2 in [1, 2, 3, 4, 5, 6, 7, 8]:\n",
    "    for seed in tqdm.notebook.tqdm(range(1, 41)):\n",
    "        mse = run(d_X2, seed)\n",
    "        scores['baseline'].append(mse['baseline'])\n",
    "        scores['after'].append(mse['after'])\n",
    "        scores['seed'].append(seed)\n",
    "        scores['d_X2'].append(d_X2)\n",
    "dump_dir = '../experiments/data/outputs/d_X2/mvn_experiment/RF/'\n",
    "os.makedirs(dump_dir, exist_ok=True)\n",
    "dump_path = os.path.join(dump_dir, 'scores.metrics')\n",
    "with open(dump_path, 'w') as f:\n",
    "    yaml.dump(dict(scores), f)"
   ]
  },
  {
   "cell_type": "code",
   "execution_count": null,
   "id": "bb2de9ff",
   "metadata": {},
   "outputs": [],
   "source": []
  }
 ],
 "metadata": {
  "kernelspec": {
   "display_name": "sandbox",
   "language": "python",
   "name": "sandbox"
  },
  "language_info": {
   "codemirror_mode": {
    "name": "ipython",
    "version": 3
   },
   "file_extension": ".py",
   "mimetype": "text/x-python",
   "name": "python",
   "nbconvert_exporter": "python",
   "pygments_lexer": "ipython3",
   "version": "3.8.0"
  }
 },
 "nbformat": 4,
 "nbformat_minor": 5
}
