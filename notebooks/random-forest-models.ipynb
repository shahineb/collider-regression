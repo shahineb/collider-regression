{
 "cells": [
  {
   "cell_type": "code",
   "execution_count": 1,
   "id": "f9fd22f9",
   "metadata": {},
   "outputs": [],
   "source": [
    "import os\n",
    "import sys\n",
    "import yaml\n",
    "import torch\n",
    "from sklearn.linear_model import LinearRegression\n",
    "from sklearn.ensemble import RandomForestRegressor\n",
    "from sklearn.model_selection import GridSearchCV\n",
    "from collections import defaultdict\n",
    "import tqdm\n",
    "import json\n",
    "import pickle\n",
    "\n",
    "base_dir = os.path.join(os.getcwd(), '..')\n",
    "sys.path.append(base_dir)\n",
    "\n",
    "import run_mvn_experiment as main"
   ]
  },
  {
   "cell_type": "markdown",
   "id": "c097614e",
   "metadata": {},
   "source": [
    "### CV Gridsearch RF hyperparameters"
   ]
  },
  {
   "cell_type": "code",
   "execution_count": 2,
   "id": "bc16ecf5",
   "metadata": {},
   "outputs": [],
   "source": [
    "# Load config file\n",
    "with open('../config/runs/mvn_experiment.yaml', \"r\") as f:\n",
    "    cfg = yaml.safe_load(f)\n",
    "cfg['data']['seed'] = 2\n",
    "cfg['data']['n'] = 400\n",
    "cfg['data']['semi_prop'] = 400\n",
    "data = main.make_data(cfg=cfg, builder=main.mvn.build_data_generator)"
   ]
  },
  {
   "cell_type": "code",
   "execution_count": 3,
   "id": "5b535987",
   "metadata": {},
   "outputs": [
    {
     "name": "stdout",
     "output_type": "stream",
     "text": [
      "RandomForestRegressor(max_depth=20, min_samples_leaf=2, n_estimators=400,\n",
      "                      random_state=2000)\n"
     ]
    }
   ],
   "source": [
    "# Load pretrained model\n",
    "with open('RF.pkl', 'rb') as f:\n",
    "    rf = pickle.load(f)\n",
    "print(rf)"
   ]
  },
  {
   "cell_type": "code",
   "execution_count": 4,
   "id": "0a5f2b78",
   "metadata": {},
   "outputs": [
    {
     "name": "stderr",
     "output_type": "stream",
     "text": [
      "\n",
      "KeyboardInterrupt\n",
      "\n"
     ]
    }
   ],
   "source": [
    "# # Or redo grid search\n",
    "# param_grid = {'n_estimators': [300, 400, 500],\n",
    "#               'max_depth': [10, 20, 30],\n",
    "#               'min_samples_split': [2, 5, 10],\n",
    "#               'min_samples_leaf': [2, 5, 10]}\n",
    "# rf = RandomForestRegressor(random_state=2000)\n",
    "# rf_cv_search = GridSearchCV(rf, param_grid, n_jobs=4)\n",
    "# rf_cv_search.fit(data.Xtrain, data.Ytrain.flatten())\n",
    "\n",
    "# print(rf_cv_search.best_score_)\n",
    "# print(rf_cv_search.best_params_)\n",
    "\n",
    "# with open('RF.pkl', 'wb') as f:\n",
    "#     pickle.dump(rf_cv_search.best_estimator_, f)\n",
    "# with open('RF_best_params.json', 'w') as f:\n",
    "#     json.dump(rf_cv_search.best_params_, f)\n",
    "# with open('RF.pkl', 'rb') as f:\n",
    "#     rf = pickle.load(f)"
   ]
  },
  {
   "cell_type": "markdown",
   "id": "77d3fc29",
   "metadata": {},
   "source": [
    "### Run with multiple seeds for dataset"
   ]
  },
  {
   "cell_type": "code",
   "execution_count": 4,
   "id": "3fbe5a89",
   "metadata": {},
   "outputs": [],
   "source": [
    "with open('../config/runs/mvn_experiment.yaml', \"r\") as f:\n",
    "    cfg = yaml.safe_load(f)\n",
    "data = main.make_data(cfg=cfg, builder=main.mvn.build_data_generator)\n",
    "lr = LinearRegression()"
   ]
  },
  {
   "cell_type": "code",
   "execution_count": 5,
   "id": "5355e1a6",
   "metadata": {},
   "outputs": [],
   "source": [
    "def run(seed):\n",
    "    cfg['data']['seed'] = seed\n",
    "    data = main.make_data(cfg=cfg, builder=main.mvn.build_data_generator)\n",
    "    Xtest, Ytest = data.generate(n=cfg['evaluation']['n_test'], seed=seed + 1)\n",
    "    \n",
    "    rf.fit(data.Xtrain, data.Ytrain.flatten())\n",
    "    lr.fit(data.Xsemitrain[:, -data.d_X2:], rf.predict(data.Xsemitrain))\n",
    "    \n",
    "    pred_baseline = torch.from_numpy(rf.predict(Xtest))\n",
    "    pred_after = pred_baseline - lr.predict(Xtest[:, -data.d_X2:])\n",
    "\n",
    "    baseline_mse = torch.square(pred_baseline - Ytest.flatten()).mean()\n",
    "    after_mse = torch.square(pred_after - Ytest.flatten()).mean()\n",
    "    return {'baseline': baseline_mse.item(), 'after': after_mse.item()}"
   ]
  },
  {
   "cell_type": "code",
   "execution_count": 6,
   "id": "911458dc",
   "metadata": {},
   "outputs": [
    {
     "data": {
      "application/vnd.jupyter.widget-view+json": {
       "model_id": "917968c24d8d4cae901b2bdbb3a9d28c",
       "version_major": 2,
       "version_minor": 0
      },
      "text/plain": [
       "  0%|          | 0/100 [00:00<?, ?it/s]"
      ]
     },
     "metadata": {},
     "output_type": "display_data"
    }
   ],
   "source": [
    "scores = {'baseline':[], 'after':[]}\n",
    "for seed in tqdm.notebook.tqdm(range(1, 101)):\n",
    "    mse = run(seed)\n",
    "    scores['baseline'].append(mse['baseline'])\n",
    "    scores['after'].append(mse['after'])\n",
    "    \n",
    "dump_dir = '../experiments/data/outputs/seeds/mvn_experiment/RF/'\n",
    "os.makedirs(dump_dir, exist_ok=True)\n",
    "dump_path = os.path.join(dump_dir, 'scores.metrics')\n",
    "with open(dump_path, 'w') as f:\n",
    "    yaml.dump(dict(scores), f)"
   ]
  },
  {
   "cell_type": "markdown",
   "id": "cfce810f",
   "metadata": {},
   "source": [
    "### Vary number of training samples"
   ]
  },
  {
   "cell_type": "code",
   "execution_count": 7,
   "id": "12e0b918",
   "metadata": {},
   "outputs": [],
   "source": [
    "# Load config file\n",
    "with open('../config/runs/mvn_experiment.yaml', \"r\") as f:\n",
    "    cfg = yaml.safe_load(f)\n",
    "data = main.make_data(cfg=cfg, builder=main.mvn.build_data_generator)\n",
    "lr = LinearRegression()"
   ]
  },
  {
   "cell_type": "code",
   "execution_count": 8,
   "id": "fa57f763",
   "metadata": {},
   "outputs": [],
   "source": [
    "def run(n_train, seed):\n",
    "    cfg['data']['n'] = n_train\n",
    "    cfg['data']['seed'] = seed\n",
    "    data = main.make_data(cfg=cfg, builder=main.mvn.build_data_generator)\n",
    "    Xtest, Ytest = data.generate(n=cfg['evaluation']['n_test'], seed=seed + 1)\n",
    "    \n",
    "    rf.fit(data.Xtrain, data.Ytrain.flatten())\n",
    "    lr.fit(data.Xsemitrain[:, -data.d_X2:], rf.predict(data.Xsemitrain))\n",
    "    \n",
    "    pred_baseline = torch.from_numpy(rf.predict(Xtest))\n",
    "    pred_after = pred_baseline - lr.predict(Xtest[:, -data.d_X2:])\n",
    "\n",
    "    baseline_mse = torch.square(pred_baseline - Ytest.flatten()).mean()\n",
    "    after_mse = torch.square(pred_after - Ytest.flatten()).mean()\n",
    "    return {'baseline': baseline_mse.item(), 'after': after_mse.item()}"
   ]
  },
  {
   "cell_type": "code",
   "execution_count": 9,
   "id": "0c522060",
   "metadata": {},
   "outputs": [
    {
     "data": {
      "application/vnd.jupyter.widget-view+json": {
       "model_id": "8f0ca0ce23f44819b40ed0e69394adaf",
       "version_major": 2,
       "version_minor": 0
      },
      "text/plain": [
       "  0%|          | 0/40 [00:00<?, ?it/s]"
      ]
     },
     "metadata": {},
     "output_type": "display_data"
    },
    {
     "data": {
      "application/vnd.jupyter.widget-view+json": {
       "model_id": "2e1460de5cdc4ce79ba7e78a943c70c0",
       "version_major": 2,
       "version_minor": 0
      },
      "text/plain": [
       "  0%|          | 0/40 [00:00<?, ?it/s]"
      ]
     },
     "metadata": {},
     "output_type": "display_data"
    },
    {
     "data": {
      "application/vnd.jupyter.widget-view+json": {
       "model_id": "dd5d7a74ca244d3d847014da96e2be23",
       "version_major": 2,
       "version_minor": 0
      },
      "text/plain": [
       "  0%|          | 0/40 [00:00<?, ?it/s]"
      ]
     },
     "metadata": {},
     "output_type": "display_data"
    },
    {
     "data": {
      "application/vnd.jupyter.widget-view+json": {
       "model_id": "ca56d2841fe14d62916918b4c4e40302",
       "version_major": 2,
       "version_minor": 0
      },
      "text/plain": [
       "  0%|          | 0/40 [00:00<?, ?it/s]"
      ]
     },
     "metadata": {},
     "output_type": "display_data"
    },
    {
     "data": {
      "application/vnd.jupyter.widget-view+json": {
       "model_id": "54658838bcfb40e9a2edeb40cb0ccb66",
       "version_major": 2,
       "version_minor": 0
      },
      "text/plain": [
       "  0%|          | 0/40 [00:00<?, ?it/s]"
      ]
     },
     "metadata": {},
     "output_type": "display_data"
    },
    {
     "data": {
      "application/vnd.jupyter.widget-view+json": {
       "model_id": "4e199759eb7b455185c72286a434c164",
       "version_major": 2,
       "version_minor": 0
      },
      "text/plain": [
       "  0%|          | 0/40 [00:00<?, ?it/s]"
      ]
     },
     "metadata": {},
     "output_type": "display_data"
    },
    {
     "data": {
      "application/vnd.jupyter.widget-view+json": {
       "model_id": "b61f5c148cb4483486495c2925ba1e85",
       "version_major": 2,
       "version_minor": 0
      },
      "text/plain": [
       "  0%|          | 0/40 [00:00<?, ?it/s]"
      ]
     },
     "metadata": {},
     "output_type": "display_data"
    },
    {
     "data": {
      "application/vnd.jupyter.widget-view+json": {
       "model_id": "4dcc55800fa54540aab1a9ee88ffdc01",
       "version_major": 2,
       "version_minor": 0
      },
      "text/plain": [
       "  0%|          | 0/40 [00:00<?, ?it/s]"
      ]
     },
     "metadata": {},
     "output_type": "display_data"
    }
   ],
   "source": [
    "scores = {'baseline':[], 'after':[], 'n_train': [], 'seed': []}\n",
    "for n_train in [10, 20, 40, 60, 80, 100, 150, 200]:\n",
    "    for seed in tqdm.notebook.tqdm(range(1, 41)):\n",
    "        mse = run(n_train, seed)\n",
    "        scores['baseline'].append(mse['baseline'])\n",
    "        scores['after'].append(mse['after'])\n",
    "        scores['seed'].append(seed)\n",
    "        scores['n_train'].append(n_train)\n",
    "dump_dir = '../experiments/data/outputs/n_train/mvn_experiment/RF/'\n",
    "os.makedirs(dump_dir, exist_ok=True)\n",
    "dump_path = os.path.join(dump_dir, 'scores.metrics')\n",
    "with open(dump_path, 'w') as f:\n",
    "    yaml.dump(dict(scores), f)"
   ]
  },
  {
   "cell_type": "markdown",
   "id": "330446c3",
   "metadata": {},
   "source": [
    "### Vary number of semi-supervised samples"
   ]
  },
  {
   "cell_type": "code",
   "execution_count": 13,
   "id": "18d1ffbe",
   "metadata": {},
   "outputs": [],
   "source": [
    "# Load config file\n",
    "with open('../config/runs/mvn_experiment.yaml', \"r\") as f:\n",
    "    cfg = yaml.safe_load(f)\n",
    "data = main.make_data(cfg=cfg, builder=main.mvn.build_data_generator)\n",
    "lr = LinearRegression()"
   ]
  },
  {
   "cell_type": "code",
   "execution_count": 14,
   "id": "15ccdece",
   "metadata": {},
   "outputs": [],
   "source": [
    "def run(semi_prop, seed):\n",
    "    cfg['data']['semi_prop'] = semi_prop\n",
    "    cfg['data']['seed'] = seed\n",
    "    data = main.make_data(cfg=cfg, builder=main.mvn.build_data_generator)\n",
    "    Xtest, Ytest = data.generate(n=cfg['evaluation']['n_test'], seed=seed + 1)\n",
    "    \n",
    "    rf.fit(data.Xtrain, data.Ytrain.flatten())\n",
    "    lr.fit(data.Xsemitrain[:, -data.d_X2:], rf.predict(data.Xsemitrain))\n",
    "    \n",
    "    pred_baseline = torch.from_numpy(rf.predict(Xtest))\n",
    "    pred_after = pred_baseline - lr.predict(Xtest[:, -data.d_X2:])\n",
    "\n",
    "    baseline_mse = torch.square(pred_baseline - Ytest.flatten()).mean()\n",
    "    after_mse = torch.square(pred_after - Ytest.flatten()).mean()\n",
    "    return {'baseline': baseline_mse.item(), 'after': after_mse.item()}"
   ]
  },
  {
   "cell_type": "code",
   "execution_count": 15,
   "id": "9eb36ac5",
   "metadata": {},
   "outputs": [
    {
     "data": {
      "application/vnd.jupyter.widget-view+json": {
       "model_id": "89f330dd9df9413dad9bd884885e7b95",
       "version_major": 2,
       "version_minor": 0
      },
      "text/plain": [
       "  0%|          | 0/40 [00:00<?, ?it/s]"
      ]
     },
     "metadata": {},
     "output_type": "display_data"
    },
    {
     "data": {
      "application/vnd.jupyter.widget-view+json": {
       "model_id": "57dc8840f2124c9baa9a1b0f3687df79",
       "version_major": 2,
       "version_minor": 0
      },
      "text/plain": [
       "  0%|          | 0/40 [00:00<?, ?it/s]"
      ]
     },
     "metadata": {},
     "output_type": "display_data"
    },
    {
     "data": {
      "application/vnd.jupyter.widget-view+json": {
       "model_id": "fe2900784e104dfdbc3e7e167d48aca6",
       "version_major": 2,
       "version_minor": 0
      },
      "text/plain": [
       "  0%|          | 0/40 [00:00<?, ?it/s]"
      ]
     },
     "metadata": {},
     "output_type": "display_data"
    },
    {
     "data": {
      "application/vnd.jupyter.widget-view+json": {
       "model_id": "0e291a0f84f94416a639215f7e9b7839",
       "version_major": 2,
       "version_minor": 0
      },
      "text/plain": [
       "  0%|          | 0/40 [00:00<?, ?it/s]"
      ]
     },
     "metadata": {},
     "output_type": "display_data"
    },
    {
     "data": {
      "application/vnd.jupyter.widget-view+json": {
       "model_id": "84827b1b0de2455c8b2e9df1366995c1",
       "version_major": 2,
       "version_minor": 0
      },
      "text/plain": [
       "  0%|          | 0/40 [00:00<?, ?it/s]"
      ]
     },
     "metadata": {},
     "output_type": "display_data"
    },
    {
     "data": {
      "application/vnd.jupyter.widget-view+json": {
       "model_id": "3c2853ca23bd47759590c5116a5088ad",
       "version_major": 2,
       "version_minor": 0
      },
      "text/plain": [
       "  0%|          | 0/40 [00:00<?, ?it/s]"
      ]
     },
     "metadata": {},
     "output_type": "display_data"
    },
    {
     "data": {
      "application/vnd.jupyter.widget-view+json": {
       "model_id": "a37226cd689b45368f3d9292c8af3b2a",
       "version_major": 2,
       "version_minor": 0
      },
      "text/plain": [
       "  0%|          | 0/40 [00:00<?, ?it/s]"
      ]
     },
     "metadata": {},
     "output_type": "display_data"
    },
    {
     "data": {
      "application/vnd.jupyter.widget-view+json": {
       "model_id": "0d868f5f4c584d0a816f428406bff6a2",
       "version_major": 2,
       "version_minor": 0
      },
      "text/plain": [
       "  0%|          | 0/40 [00:00<?, ?it/s]"
      ]
     },
     "metadata": {},
     "output_type": "display_data"
    },
    {
     "data": {
      "application/vnd.jupyter.widget-view+json": {
       "model_id": "8da74a3378ec4060aa41f192fa74d0b4",
       "version_major": 2,
       "version_minor": 0
      },
      "text/plain": [
       "  0%|          | 0/40 [00:00<?, ?it/s]"
      ]
     },
     "metadata": {},
     "output_type": "display_data"
    }
   ],
   "source": [
    "scores = {'baseline':[], 'after':[], 'semi_prop': [], 'seed': []}\n",
    "for semi_prop in [0, 25, 50, 100, 200, 400, 600, 800, 1000]:\n",
    "    for seed in tqdm.notebook.tqdm(range(1, 41)):\n",
    "        mse = run(semi_prop, seed)\n",
    "        scores['baseline'].append(mse['baseline'])\n",
    "        scores['after'].append(mse['after'])\n",
    "        scores['seed'].append(seed)\n",
    "        scores['semi_prop'].append(semi_prop)\n",
    "dump_dir = '../experiments/data/outputs/semi_prop/mvn_experiment/RF/'\n",
    "os.makedirs(dump_dir, exist_ok=True)\n",
    "dump_path = os.path.join(dump_dir, 'scores.metrics')\n",
    "with open(dump_path, 'w') as f:\n",
    "    yaml.dump(dict(scores), f)"
   ]
  },
  {
   "cell_type": "markdown",
   "id": "38789197",
   "metadata": {},
   "source": [
    "### Vary dimensionality of $X_2$"
   ]
  },
  {
   "cell_type": "code",
   "execution_count": 16,
   "id": "ce83b5b8",
   "metadata": {},
   "outputs": [],
   "source": [
    "# Load config file\n",
    "with open('../config/runs/mvn_experiment.yaml', \"r\") as f:\n",
    "    cfg = yaml.safe_load(f)\n",
    "data = main.make_data(cfg=cfg, builder=main.mvn.build_data_generator)\n",
    "with open('RF_best_params.json', 'r') as f:\n",
    "    rf_params = json.load(f)"
   ]
  },
  {
   "cell_type": "code",
   "execution_count": 17,
   "id": "8f3c371a",
   "metadata": {},
   "outputs": [],
   "source": [
    "def run(d_X2, seed):\n",
    "    cfg['data']['d_X2'] = d_X2\n",
    "    cfg['data']['seed'] = seed\n",
    "    data = main.make_data(cfg=cfg, builder=main.mvn.build_data_generator)\n",
    "    Xtest, Ytest = data.generate(n=cfg['evaluation']['n_test'], seed=seed + 1)\n",
    "    \n",
    "    local_rf = RandomForestRegressor(random_state=2000, **rf_params)\n",
    "    lr = LinearRegression()\n",
    "\n",
    "    local_rf.fit(data.Xtrain, data.Ytrain.flatten())\n",
    "    lr.fit(data.Xsemitrain[:, -data.d_X2:], local_rf.predict(data.Xsemitrain))\n",
    "    \n",
    "    pred_baseline = torch.from_numpy(local_rf.predict(Xtest))\n",
    "    pred_after = pred_baseline - lr.predict(Xtest[:, -data.d_X2:])\n",
    "\n",
    "    baseline_mse = torch.square(pred_baseline - Ytest.flatten()).mean()\n",
    "    after_mse = torch.square(pred_after - Ytest.flatten()).mean()\n",
    "    return {'baseline': baseline_mse.item(), 'after': after_mse.item()}"
   ]
  },
  {
   "cell_type": "code",
   "execution_count": 18,
   "id": "3274eac9",
   "metadata": {},
   "outputs": [
    {
     "data": {
      "application/vnd.jupyter.widget-view+json": {
       "model_id": "c96fc0d115304c62a44a36db372106e4",
       "version_major": 2,
       "version_minor": 0
      },
      "text/plain": [
       "  0%|          | 0/40 [00:00<?, ?it/s]"
      ]
     },
     "metadata": {},
     "output_type": "display_data"
    },
    {
     "data": {
      "application/vnd.jupyter.widget-view+json": {
       "model_id": "fda4f07742534c19ab2d2f1030dd180c",
       "version_major": 2,
       "version_minor": 0
      },
      "text/plain": [
       "  0%|          | 0/40 [00:00<?, ?it/s]"
      ]
     },
     "metadata": {},
     "output_type": "display_data"
    },
    {
     "data": {
      "application/vnd.jupyter.widget-view+json": {
       "model_id": "542b8307ebac40b5b3c6436e9a660eaf",
       "version_major": 2,
       "version_minor": 0
      },
      "text/plain": [
       "  0%|          | 0/40 [00:00<?, ?it/s]"
      ]
     },
     "metadata": {},
     "output_type": "display_data"
    },
    {
     "data": {
      "application/vnd.jupyter.widget-view+json": {
       "model_id": "3b1390d065734c72869fd575f8bd5acb",
       "version_major": 2,
       "version_minor": 0
      },
      "text/plain": [
       "  0%|          | 0/40 [00:00<?, ?it/s]"
      ]
     },
     "metadata": {},
     "output_type": "display_data"
    },
    {
     "data": {
      "application/vnd.jupyter.widget-view+json": {
       "model_id": "b78d8be606264aefb671a354ad4fa608",
       "version_major": 2,
       "version_minor": 0
      },
      "text/plain": [
       "  0%|          | 0/40 [00:00<?, ?it/s]"
      ]
     },
     "metadata": {},
     "output_type": "display_data"
    },
    {
     "data": {
      "application/vnd.jupyter.widget-view+json": {
       "model_id": "62cfd9bd344047e0997ad6de7173b72e",
       "version_major": 2,
       "version_minor": 0
      },
      "text/plain": [
       "  0%|          | 0/40 [00:00<?, ?it/s]"
      ]
     },
     "metadata": {},
     "output_type": "display_data"
    },
    {
     "data": {
      "application/vnd.jupyter.widget-view+json": {
       "model_id": "53a5be31d39346028dab2b22b64aa3f1",
       "version_major": 2,
       "version_minor": 0
      },
      "text/plain": [
       "  0%|          | 0/40 [00:00<?, ?it/s]"
      ]
     },
     "metadata": {},
     "output_type": "display_data"
    },
    {
     "data": {
      "application/vnd.jupyter.widget-view+json": {
       "model_id": "f43f0d4efc4e4dd983429de4fea8ffbd",
       "version_major": 2,
       "version_minor": 0
      },
      "text/plain": [
       "  0%|          | 0/40 [00:00<?, ?it/s]"
      ]
     },
     "metadata": {},
     "output_type": "display_data"
    }
   ],
   "source": [
    "scores = {'baseline':[], 'after':[], 'd_X2': [], 'seed': []}\n",
    "for d_X2 in [1, 2, 3, 4, 5, 6, 7, 8]:\n",
    "    for seed in tqdm.notebook.tqdm(range(1, 41)):\n",
    "        mse = run(d_X2, seed)\n",
    "        scores['baseline'].append(mse['baseline'])\n",
    "        scores['after'].append(mse['after'])\n",
    "        scores['seed'].append(seed)\n",
    "        scores['d_X2'].append(d_X2)\n",
    "dump_dir = '../experiments/data/outputs/d_X2/mvn_experiment/RF/'\n",
    "os.makedirs(dump_dir, exist_ok=True)\n",
    "dump_path = os.path.join(dump_dir, 'scores.metrics')\n",
    "with open(dump_path, 'w') as f:\n",
    "    yaml.dump(dict(scores), f)"
   ]
  }
 ],
 "metadata": {
  "kernelspec": {
   "display_name": "sandbox",
   "language": "python",
   "name": "sandbox"
  },
  "language_info": {
   "codemirror_mode": {
    "name": "ipython",
    "version": 3
   },
   "file_extension": ".py",
   "mimetype": "text/x-python",
   "name": "python",
   "nbconvert_exporter": "python",
   "pygments_lexer": "ipython3",
   "version": "3.8.0"
  }
 },
 "nbformat": 4,
 "nbformat_minor": 5
}
