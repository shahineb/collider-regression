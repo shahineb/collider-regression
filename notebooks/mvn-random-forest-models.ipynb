{
 "cells": [
  {
   "cell_type": "code",
   "execution_count": 1,
   "id": "f9fd22f9",
   "metadata": {},
   "outputs": [],
   "source": [
    "import os\n",
    "import sys\n",
    "import yaml\n",
    "import torch\n",
    "from sklearn.linear_model import LinearRegression\n",
    "from sklearn.ensemble import RandomForestRegressor\n",
    "from sklearn.model_selection import GridSearchCV\n",
    "from collections import defaultdict\n",
    "import tqdm\n",
    "import json\n",
    "import pickle\n",
    "\n",
    "base_dir = os.path.join(os.getcwd(), '..')\n",
    "sys.path.append(base_dir)\n",
    "\n",
    "import run_mvn_experiment as main"
   ]
  },
  {
   "cell_type": "markdown",
   "id": "c097614e",
   "metadata": {},
   "source": [
    "### CV Gridsearch RF hyperparameters"
   ]
  },
  {
   "cell_type": "code",
   "execution_count": 42,
   "id": "bc16ecf5",
   "metadata": {},
   "outputs": [],
   "source": [
    "# Load config file\n",
    "with open('../config/runs/mvn_experiment.yaml', \"r\") as f:\n",
    "    cfg = yaml.safe_load(f)\n",
    "cfg['data']['seed'] = 2\n",
    "cfg['data']['n'] = 400\n",
    "cfg['data']['semi_prop'] = 400\n",
    "data = main.make_data(cfg=cfg, builder=main.mvn.build_data_generator)"
   ]
  },
  {
   "cell_type": "code",
   "execution_count": 43,
   "id": "5b535987",
   "metadata": {},
   "outputs": [
    {
     "name": "stdout",
     "output_type": "stream",
     "text": [
      "RandomForestRegressor(max_depth=20, min_samples_leaf=2, n_estimators=400,\n",
      "                      random_state=2000)\n"
     ]
    }
   ],
   "source": [
    "# Load pretrained model\n",
    "with open('sandbox/RF.pkl', 'rb') as f:\n",
    "    rf = pickle.load(f)\n",
    "print(rf)"
   ]
  },
  {
   "cell_type": "code",
   "execution_count": 4,
   "id": "0a5f2b78",
   "metadata": {},
   "outputs": [
    {
     "name": "stderr",
     "output_type": "stream",
     "text": [
      "\n",
      "KeyboardInterrupt\n",
      "\n"
     ]
    }
   ],
   "source": [
    "# # Or redo grid search\n",
    "# param_grid = {'n_estimators': [300, 400, 500],\n",
    "#               'max_depth': [10, 20, 30],\n",
    "#               'min_samples_split': [2, 5, 10],\n",
    "#               'min_samples_leaf': [2, 5, 10]}\n",
    "# rf = RandomForestRegressor(random_state=2000)\n",
    "# rf_cv_search = GridSearchCV(rf, param_grid, n_jobs=4)\n",
    "# rf_cv_search.fit(data.Xtrain, data.Ytrain.flatten())\n",
    "\n",
    "# print(rf_cv_search.best_score_)\n",
    "# print(rf_cv_search.best_params_)\n",
    "\n",
    "# with open('RF.pkl', 'wb') as f:\n",
    "#     pickle.dump(rf_cv_search.best_estimator_, f)\n",
    "# with open('RF_best_params.json', 'w') as f:\n",
    "#     json.dump(rf_cv_search.best_params_, f)\n",
    "# with open('RF.pkl', 'rb') as f:\n",
    "#     rf = pickle.load(f)"
   ]
  },
  {
   "cell_type": "code",
   "execution_count": 46,
   "id": "88d5e49a",
   "metadata": {},
   "outputs": [],
   "source": [
    "def eval_most_gain(cfg, data, rf):\n",
    "    X, _ = data.generate(n=cfg['evaluation']['n_test_gain'],\n",
    "                         seed=cfg['evaluation']['seed'],\n",
    "                         most_gain=True,\n",
    "                         most_gain_samples=cfg[\"evaluation\"][\"n_gain\"])\n",
    "    pred = torch.from_numpy(rf.predict(X.view(-1, X.size(-1)))).float()\n",
    "    pred_avg = pred.reshape(d, -1).mean(dim=0)\n",
    "    most_gain = torch.square(pred_avg).mean()\n",
    "    return most_gain"
   ]
  },
  {
   "cell_type": "markdown",
   "id": "77d3fc29",
   "metadata": {},
   "source": [
    "### Run with multiple seeds for dataset"
   ]
  },
  {
   "cell_type": "code",
   "execution_count": 47,
   "id": "3fbe5a89",
   "metadata": {},
   "outputs": [],
   "source": [
    "with open('../config/runs/mvn_experiment.yaml', \"r\") as f:\n",
    "    cfg = yaml.safe_load(f)\n",
    "data = main.make_data(cfg=cfg, builder=main.mvn.build_data_generator)\n",
    "lr = LinearRegression()"
   ]
  },
  {
   "cell_type": "code",
   "execution_count": 48,
   "id": "5355e1a6",
   "metadata": {},
   "outputs": [],
   "source": [
    "def run(seed):\n",
    "    cfg['data']['seed'] = seed\n",
    "    data = main.make_data(cfg=cfg, builder=main.mvn.build_data_generator)\n",
    "    Xtest, Ytest = data.generate(n=cfg['evaluation']['n_test'], seed=seed + 1)\n",
    "    \n",
    "    rf.fit(data.Xtrain, data.Ytrain.flatten())\n",
    "    lr.fit(data.Xsemitrain[:, -data.d_X2:], rf.predict(data.Xsemitrain))\n",
    "    \n",
    "    pred_baseline = torch.from_numpy(rf.predict(Xtest))\n",
    "    pred_after = pred_baseline - lr.predict(Xtest[:, -data.d_X2:])\n",
    "\n",
    "    baseline_mse = torch.square(pred_baseline - Ytest.flatten()).mean()\n",
    "    after_mse = torch.square(pred_after - Ytest.flatten()).mean()\n",
    "\n",
    "    most_gain = eval_most_gain(cfg, data, rf)\n",
    "\n",
    "    return {'baseline': baseline_mse.item(), \n",
    "            'after': after_mse.item(),\n",
    "            'most_gain': most_gain.item()}"
   ]
  },
  {
   "cell_type": "code",
   "execution_count": 53,
   "id": "911458dc",
   "metadata": {},
   "outputs": [
    {
     "data": {
      "application/vnd.jupyter.widget-view+json": {
       "model_id": "d8dbe9648fae472bb109432d6696dc47",
       "version_major": 2,
       "version_minor": 0
      },
      "text/plain": [
       "  0%|          | 0/100 [00:00<?, ?it/s]"
      ]
     },
     "metadata": {},
     "output_type": "display_data"
    }
   ],
   "source": [
    "scores = {'baseline': [], 'after': [], 'most_gain': []}\n",
    "for seed in tqdm.notebook.tqdm(range(1, 101)):\n",
    "    mse = run(seed)\n",
    "    scores['baseline'].append(mse['baseline'])\n",
    "    scores['after'].append(mse['after'])\n",
    "    scores['most_gain'].append(mse['most_gain'])\n",
    "\n",
    "dump_dir = '../experiments/data/outputs/seeds/mvn_experiment/RF/'\n",
    "os.makedirs(dump_dir, exist_ok=True)\n",
    "dump_path = os.path.join(dump_dir, 'scores.metrics')\n",
    "with open(dump_path, 'w') as f:\n",
    "    yaml.dump(dict(scores), f)"
   ]
  },
  {
   "cell_type": "markdown",
   "id": "cfce810f",
   "metadata": {},
   "source": [
    "### Vary number of training samples"
   ]
  },
  {
   "cell_type": "code",
   "execution_count": 54,
   "id": "12e0b918",
   "metadata": {},
   "outputs": [],
   "source": [
    "# Load config file\n",
    "with open('../config/runs/mvn_experiment.yaml', \"r\") as f:\n",
    "    cfg = yaml.safe_load(f)\n",
    "data = main.make_data(cfg=cfg, builder=main.mvn.build_data_generator)\n",
    "lr = LinearRegression()"
   ]
  },
  {
   "cell_type": "code",
   "execution_count": 55,
   "id": "fa57f763",
   "metadata": {},
   "outputs": [],
   "source": [
    "def run(n_train, seed):\n",
    "    cfg['data']['n'] = n_train\n",
    "    cfg['data']['seed'] = seed\n",
    "    data = main.make_data(cfg=cfg, builder=main.mvn.build_data_generator)\n",
    "    Xtest, Ytest = data.generate(n=cfg['evaluation']['n_test'], seed=seed + 1)\n",
    "    \n",
    "    rf.fit(data.Xtrain, data.Ytrain.flatten())\n",
    "    lr.fit(data.Xsemitrain[:, -data.d_X2:], rf.predict(data.Xsemitrain))\n",
    "    \n",
    "    pred_baseline = torch.from_numpy(rf.predict(Xtest))\n",
    "    pred_after = pred_baseline - lr.predict(Xtest[:, -data.d_X2:])\n",
    "\n",
    "    baseline_mse = torch.square(pred_baseline - Ytest.flatten()).mean()\n",
    "    after_mse = torch.square(pred_after - Ytest.flatten()).mean()\n",
    "\n",
    "    most_gain = eval_most_gain(cfg, data, rf)\n",
    "\n",
    "    return {'baseline': baseline_mse.item(), \n",
    "            'after': after_mse.item(),\n",
    "            'most_gain': most_gain.item()}"
   ]
  },
  {
   "cell_type": "code",
   "execution_count": 56,
   "id": "0c522060",
   "metadata": {
    "collapsed": true
   },
   "outputs": [
    {
     "data": {
      "application/vnd.jupyter.widget-view+json": {
       "model_id": "63c3146e77834cd69837c4002a4c5556",
       "version_major": 2,
       "version_minor": 0
      },
      "text/plain": [
       "  0%|          | 0/40 [00:00<?, ?it/s]"
      ]
     },
     "metadata": {},
     "output_type": "display_data"
    },
    {
     "data": {
      "application/vnd.jupyter.widget-view+json": {
       "model_id": "417fd9aaad9c465499578d95e5e3d91a",
       "version_major": 2,
       "version_minor": 0
      },
      "text/plain": [
       "  0%|          | 0/40 [00:00<?, ?it/s]"
      ]
     },
     "metadata": {},
     "output_type": "display_data"
    },
    {
     "data": {
      "application/vnd.jupyter.widget-view+json": {
       "model_id": "f1de03ec47324f7d8becd2f94d357119",
       "version_major": 2,
       "version_minor": 0
      },
      "text/plain": [
       "  0%|          | 0/40 [00:00<?, ?it/s]"
      ]
     },
     "metadata": {},
     "output_type": "display_data"
    },
    {
     "data": {
      "application/vnd.jupyter.widget-view+json": {
       "model_id": "b9810cd5a6cc4f88b97b1eac95afaaf8",
       "version_major": 2,
       "version_minor": 0
      },
      "text/plain": [
       "  0%|          | 0/40 [00:00<?, ?it/s]"
      ]
     },
     "metadata": {},
     "output_type": "display_data"
    },
    {
     "data": {
      "application/vnd.jupyter.widget-view+json": {
       "model_id": "cae6069d9f60403b9f7cbd9b8c46dc10",
       "version_major": 2,
       "version_minor": 0
      },
      "text/plain": [
       "  0%|          | 0/40 [00:00<?, ?it/s]"
      ]
     },
     "metadata": {},
     "output_type": "display_data"
    },
    {
     "data": {
      "application/vnd.jupyter.widget-view+json": {
       "model_id": "92369a1bfd4f4eb0b359dd2de5e822a3",
       "version_major": 2,
       "version_minor": 0
      },
      "text/plain": [
       "  0%|          | 0/40 [00:00<?, ?it/s]"
      ]
     },
     "metadata": {},
     "output_type": "display_data"
    },
    {
     "data": {
      "application/vnd.jupyter.widget-view+json": {
       "model_id": "de576bb834dd4678b25ea261dc6c91d9",
       "version_major": 2,
       "version_minor": 0
      },
      "text/plain": [
       "  0%|          | 0/40 [00:00<?, ?it/s]"
      ]
     },
     "metadata": {},
     "output_type": "display_data"
    },
    {
     "data": {
      "application/vnd.jupyter.widget-view+json": {
       "model_id": "8eff09f4a6014d98a561b47c547ea96b",
       "version_major": 2,
       "version_minor": 0
      },
      "text/plain": [
       "  0%|          | 0/40 [00:00<?, ?it/s]"
      ]
     },
     "metadata": {},
     "output_type": "display_data"
    }
   ],
   "source": [
    "scores = {'baseline':[], 'after':[], 'n_train': [], 'seed': [], 'most_gain': []}\n",
    "for n_train in [10, 20, 40, 60, 80, 100, 150, 200]:\n",
    "    for seed in tqdm.notebook.tqdm(range(1, 41)):\n",
    "        mse = run(n_train, seed)\n",
    "        scores['baseline'].append(mse['baseline'])\n",
    "        scores['after'].append(mse['after'])\n",
    "        scores['seed'].append(seed)\n",
    "        scores['n_train'].append(n_train)\n",
    "        scores['most_gain'].append(mse['most_gain'])\n",
    "dump_dir = '../experiments/data/outputs/n_train/mvn_experiment/RF/'\n",
    "os.makedirs(dump_dir, exist_ok=True)\n",
    "dump_path = os.path.join(dump_dir, 'scores.metrics')\n",
    "with open(dump_path, 'w') as f:\n",
    "    yaml.dump(dict(scores), f)"
   ]
  },
  {
   "cell_type": "markdown",
   "id": "330446c3",
   "metadata": {},
   "source": [
    "### Vary number of semi-supervised samples"
   ]
  },
  {
   "cell_type": "code",
   "execution_count": 57,
   "id": "18d1ffbe",
   "metadata": {},
   "outputs": [],
   "source": [
    "# Load config file\n",
    "with open('../config/runs/mvn_experiment.yaml', \"r\") as f:\n",
    "    cfg = yaml.safe_load(f)\n",
    "data = main.make_data(cfg=cfg, builder=main.mvn.build_data_generator)\n",
    "lr = LinearRegression()"
   ]
  },
  {
   "cell_type": "code",
   "execution_count": 58,
   "id": "15ccdece",
   "metadata": {},
   "outputs": [],
   "source": [
    "def run(semi_prop, seed):\n",
    "    cfg['data']['semi_prop'] = semi_prop\n",
    "    cfg['data']['seed'] = seed\n",
    "    data = main.make_data(cfg=cfg, builder=main.mvn.build_data_generator)\n",
    "    Xtest, Ytest = data.generate(n=cfg['evaluation']['n_test'], seed=seed + 1)\n",
    "    \n",
    "    rf.fit(data.Xtrain, data.Ytrain.flatten())\n",
    "    lr.fit(data.Xsemitrain[:, -data.d_X2:], rf.predict(data.Xsemitrain))\n",
    "    \n",
    "    pred_baseline = torch.from_numpy(rf.predict(Xtest))\n",
    "    pred_after = pred_baseline - lr.predict(Xtest[:, -data.d_X2:])\n",
    "\n",
    "    baseline_mse = torch.square(pred_baseline - Ytest.flatten()).mean()\n",
    "    after_mse = torch.square(pred_after - Ytest.flatten()).mean()\n",
    "\n",
    "    most_gain = eval_most_gain(cfg, data, rf)\n",
    "\n",
    "    return {'baseline': baseline_mse.item(), \n",
    "            'after': after_mse.item(),\n",
    "            'most_gain': most_gain.item()}"
   ]
  },
  {
   "cell_type": "code",
   "execution_count": 59,
   "id": "9eb36ac5",
   "metadata": {
    "collapsed": true
   },
   "outputs": [
    {
     "data": {
      "application/vnd.jupyter.widget-view+json": {
       "model_id": "fa101b7cf1e443fca2ea4f9db95e8e95",
       "version_major": 2,
       "version_minor": 0
      },
      "text/plain": [
       "  0%|          | 0/40 [00:00<?, ?it/s]"
      ]
     },
     "metadata": {},
     "output_type": "display_data"
    },
    {
     "data": {
      "application/vnd.jupyter.widget-view+json": {
       "model_id": "82703b5eee784dcaa6c3ecedaa428e2a",
       "version_major": 2,
       "version_minor": 0
      },
      "text/plain": [
       "  0%|          | 0/40 [00:00<?, ?it/s]"
      ]
     },
     "metadata": {},
     "output_type": "display_data"
    },
    {
     "data": {
      "application/vnd.jupyter.widget-view+json": {
       "model_id": "976ac27e85eb45f2b6437dcf10070093",
       "version_major": 2,
       "version_minor": 0
      },
      "text/plain": [
       "  0%|          | 0/40 [00:00<?, ?it/s]"
      ]
     },
     "metadata": {},
     "output_type": "display_data"
    },
    {
     "data": {
      "application/vnd.jupyter.widget-view+json": {
       "model_id": "cf14ac06299a4b3188c4c74c6c89e7cf",
       "version_major": 2,
       "version_minor": 0
      },
      "text/plain": [
       "  0%|          | 0/40 [00:00<?, ?it/s]"
      ]
     },
     "metadata": {},
     "output_type": "display_data"
    },
    {
     "data": {
      "application/vnd.jupyter.widget-view+json": {
       "model_id": "c377ded7040a4165a55b708cb47c9599",
       "version_major": 2,
       "version_minor": 0
      },
      "text/plain": [
       "  0%|          | 0/40 [00:00<?, ?it/s]"
      ]
     },
     "metadata": {},
     "output_type": "display_data"
    },
    {
     "data": {
      "application/vnd.jupyter.widget-view+json": {
       "model_id": "f7b3591680f44fd9a9e0b8e7a2a23c90",
       "version_major": 2,
       "version_minor": 0
      },
      "text/plain": [
       "  0%|          | 0/40 [00:00<?, ?it/s]"
      ]
     },
     "metadata": {},
     "output_type": "display_data"
    },
    {
     "data": {
      "application/vnd.jupyter.widget-view+json": {
       "model_id": "74ce1ba020964ffbb1c80d2edbcd40fd",
       "version_major": 2,
       "version_minor": 0
      },
      "text/plain": [
       "  0%|          | 0/40 [00:00<?, ?it/s]"
      ]
     },
     "metadata": {},
     "output_type": "display_data"
    },
    {
     "data": {
      "application/vnd.jupyter.widget-view+json": {
       "model_id": "398136549da840568e1cb00d06805460",
       "version_major": 2,
       "version_minor": 0
      },
      "text/plain": [
       "  0%|          | 0/40 [00:00<?, ?it/s]"
      ]
     },
     "metadata": {},
     "output_type": "display_data"
    },
    {
     "data": {
      "application/vnd.jupyter.widget-view+json": {
       "model_id": "b98c364cfc0c45a8bba3b0be79c7cec8",
       "version_major": 2,
       "version_minor": 0
      },
      "text/plain": [
       "  0%|          | 0/40 [00:00<?, ?it/s]"
      ]
     },
     "metadata": {},
     "output_type": "display_data"
    }
   ],
   "source": [
    "scores = {'baseline':[], 'after':[], 'semi_prop': [], 'seed': [], 'most_gain': []}\n",
    "for semi_prop in [0, 25, 50, 100, 200, 400, 600, 800, 1000]:\n",
    "    for seed in tqdm.notebook.tqdm(range(1, 41)):\n",
    "        mse = run(semi_prop, seed)\n",
    "        scores['baseline'].append(mse['baseline'])\n",
    "        scores['after'].append(mse['after'])\n",
    "        scores['seed'].append(seed)\n",
    "        scores['semi_prop'].append(semi_prop)\n",
    "        scores['most_gain'].append(mse['most_gain'])\n",
    "dump_dir = '../experiments/data/outputs/semi_prop/mvn_experiment/RF/'\n",
    "os.makedirs(dump_dir, exist_ok=True)\n",
    "dump_path = os.path.join(dump_dir, 'scores.metrics')\n",
    "with open(dump_path, 'w') as f:\n",
    "    yaml.dump(dict(scores), f)"
   ]
  },
  {
   "cell_type": "markdown",
   "id": "38789197",
   "metadata": {},
   "source": [
    "### Vary dimensionality of $X_2$"
   ]
  },
  {
   "cell_type": "code",
   "execution_count": 60,
   "id": "ce83b5b8",
   "metadata": {},
   "outputs": [],
   "source": [
    "# Load config file\n",
    "with open('../config/runs/mvn_experiment.yaml', \"r\") as f:\n",
    "    cfg = yaml.safe_load(f)\n",
    "data = main.make_data(cfg=cfg, builder=main.mvn.build_data_generator)\n",
    "with open('RF_best_params.json', 'r') as f:\n",
    "    rf_params = json.load(f)"
   ]
  },
  {
   "cell_type": "code",
   "execution_count": 65,
   "id": "8f3c371a",
   "metadata": {},
   "outputs": [],
   "source": [
    "def run(d_X2, seed):\n",
    "    cfg['data']['d_X2'] = d_X2\n",
    "    cfg['data']['seed'] = seed\n",
    "    data = main.make_data(cfg=cfg, builder=main.mvn.build_data_generator)\n",
    "    Xtest, Ytest = data.generate(n=cfg['evaluation']['n_test'], seed=seed + 1)\n",
    "    \n",
    "    local_rf = RandomForestRegressor(random_state=2000, **rf_params)\n",
    "    lr = LinearRegression()\n",
    "\n",
    "    local_rf.fit(data.Xtrain, data.Ytrain.flatten())\n",
    "    lr.fit(data.Xsemitrain[:, -data.d_X2:], local_rf.predict(data.Xsemitrain))\n",
    "    \n",
    "    pred_baseline = torch.from_numpy(local_rf.predict(Xtest))\n",
    "    pred_after = pred_baseline - lr.predict(Xtest[:, -data.d_X2:])\n",
    "\n",
    "    baseline_mse = torch.square(pred_baseline - Ytest.flatten()).mean()\n",
    "    after_mse = torch.square(pred_after - Ytest.flatten()).mean()\n",
    "\n",
    "    most_gain = eval_most_gain(cfg, data, local_rf)\n",
    "\n",
    "    return {'baseline': baseline_mse.item(), \n",
    "            'after': after_mse.item(),\n",
    "            'most_gain': most_gain.item()}"
   ]
  },
  {
   "cell_type": "code",
   "execution_count": 66,
   "id": "3274eac9",
   "metadata": {},
   "outputs": [
    {
     "data": {
      "application/vnd.jupyter.widget-view+json": {
       "model_id": "5219d4fa6b01479988b9b5b5e9c57889",
       "version_major": 2,
       "version_minor": 0
      },
      "text/plain": [
       "  0%|          | 0/40 [00:00<?, ?it/s]"
      ]
     },
     "metadata": {},
     "output_type": "display_data"
    },
    {
     "data": {
      "application/vnd.jupyter.widget-view+json": {
       "model_id": "83f19655fb1e4f49bad7905ca95b39fe",
       "version_major": 2,
       "version_minor": 0
      },
      "text/plain": [
       "  0%|          | 0/40 [00:00<?, ?it/s]"
      ]
     },
     "metadata": {},
     "output_type": "display_data"
    },
    {
     "data": {
      "application/vnd.jupyter.widget-view+json": {
       "model_id": "e193fa121f49451aac1a5b71c2c55323",
       "version_major": 2,
       "version_minor": 0
      },
      "text/plain": [
       "  0%|          | 0/40 [00:00<?, ?it/s]"
      ]
     },
     "metadata": {},
     "output_type": "display_data"
    },
    {
     "data": {
      "application/vnd.jupyter.widget-view+json": {
       "model_id": "0dd1652000984ea3b69ec882627b91b2",
       "version_major": 2,
       "version_minor": 0
      },
      "text/plain": [
       "  0%|          | 0/40 [00:00<?, ?it/s]"
      ]
     },
     "metadata": {},
     "output_type": "display_data"
    },
    {
     "data": {
      "application/vnd.jupyter.widget-view+json": {
       "model_id": "8356646baaa44ed3a25f67a9c12faf32",
       "version_major": 2,
       "version_minor": 0
      },
      "text/plain": [
       "  0%|          | 0/40 [00:00<?, ?it/s]"
      ]
     },
     "metadata": {},
     "output_type": "display_data"
    },
    {
     "data": {
      "application/vnd.jupyter.widget-view+json": {
       "model_id": "016c904dfb6e4b1bb42c01c0275f460b",
       "version_major": 2,
       "version_minor": 0
      },
      "text/plain": [
       "  0%|          | 0/40 [00:00<?, ?it/s]"
      ]
     },
     "metadata": {},
     "output_type": "display_data"
    },
    {
     "data": {
      "application/vnd.jupyter.widget-view+json": {
       "model_id": "11fc823dd4b04f799f5d595036fb7102",
       "version_major": 2,
       "version_minor": 0
      },
      "text/plain": [
       "  0%|          | 0/40 [00:00<?, ?it/s]"
      ]
     },
     "metadata": {},
     "output_type": "display_data"
    },
    {
     "data": {
      "application/vnd.jupyter.widget-view+json": {
       "model_id": "a3174fc77d284e65b6a1c9ca8bf29062",
       "version_major": 2,
       "version_minor": 0
      },
      "text/plain": [
       "  0%|          | 0/40 [00:00<?, ?it/s]"
      ]
     },
     "metadata": {},
     "output_type": "display_data"
    }
   ],
   "source": [
    "scores = {'baseline':[], 'after':[], 'd_X2': [], 'seed': [], 'most_gain': []}\n",
    "for d_X2 in [1, 2, 3, 4, 5, 6, 7, 8]:\n",
    "    for seed in tqdm.notebook.tqdm(range(1, 41)):\n",
    "        mse = run(d_X2, seed)\n",
    "        scores['baseline'].append(mse['baseline'])\n",
    "        scores['after'].append(mse['after'])\n",
    "        scores['seed'].append(seed)\n",
    "        scores['d_X2'].append(d_X2)\n",
    "        scores['most_gain'].append(mse['most_gain'])\n",
    "dump_dir = '../experiments/data/outputs/d_X2/mvn_experiment/RF/'\n",
    "os.makedirs(dump_dir, exist_ok=True)\n",
    "dump_path = os.path.join(dump_dir, 'scores.metrics')\n",
    "with open(dump_path, 'w') as f:\n",
    "    yaml.dump(dict(scores), f)"
   ]
  },
  {
   "cell_type": "code",
   "execution_count": null,
   "id": "edcf6519",
   "metadata": {},
   "outputs": [],
   "source": []
  }
 ],
 "metadata": {
  "kernelspec": {
   "display_name": "sandbox",
   "language": "python",
   "name": "sandbox"
  },
  "language_info": {
   "codemirror_mode": {
    "name": "ipython",
    "version": 3
   },
   "file_extension": ".py",
   "mimetype": "text/x-python",
   "name": "python",
   "nbconvert_exporter": "python",
   "pygments_lexer": "ipython3",
   "version": "3.8.0"
  }
 },
 "nbformat": 4,
 "nbformat_minor": 5
}
