{
 "cells": [
  {
   "cell_type": "code",
   "execution_count": 1,
   "id": "f9fd22f9",
   "metadata": {},
   "outputs": [],
   "source": [
    "import os\n",
    "import sys\n",
    "import yaml\n",
    "import torch\n",
    "from sklearn.linear_model import LinearRegression\n",
    "from sklearn.ensemble import RandomForestRegressor\n",
    "from sklearn.model_selection import GridSearchCV\n",
    "from collections import defaultdict\n",
    "import tqdm\n",
    "import json\n",
    "import pickle\n",
    "\n",
    "base_dir = os.path.join(os.getcwd(), '..')\n",
    "sys.path.append(base_dir)\n",
    "\n",
    "import run_mvn_experiment as main"
   ]
  },
  {
   "cell_type": "markdown",
   "id": "c097614e",
   "metadata": {},
   "source": [
    "### CV Gridsearch RF hyperparameters"
   ]
  },
  {
   "cell_type": "code",
   "execution_count": 2,
   "id": "bc16ecf5",
   "metadata": {},
   "outputs": [],
   "source": [
    "# Load config file\n",
    "with open('../config/runs/mvn_experiment.yaml', \"r\") as f:\n",
    "    cfg = yaml.safe_load(f)\n",
    "cfg['data']['seed'] = 2\n",
    "cfg['data']['n'] = 400\n",
    "cfg['data']['semi_prop'] = 400\n",
    "data = main.make_data(cfg=cfg, builder=main.mvn.build_data_generator)"
   ]
  },
  {
   "cell_type": "code",
   "execution_count": 3,
   "id": "5b535987",
   "metadata": {},
   "outputs": [
    {
     "name": "stdout",
     "output_type": "stream",
     "text": [
      "RandomForestRegressor(max_depth=20, max_features=3, min_samples_leaf=2,\n",
      "                      n_estimators=400, random_state=2000)\n"
     ]
    }
   ],
   "source": [
    "# Load pretrained model\n",
    "with open('mvn-RF.pkl', 'rb') as f:\n",
    "    rf = pickle.load(f)\n",
    "print(rf)"
   ]
  },
  {
   "cell_type": "code",
   "execution_count": 4,
   "id": "0a5f2b78",
   "metadata": {},
   "outputs": [
    {
     "name": "stdout",
     "output_type": "stream",
     "text": [
      "0.8136990574898636\n",
      "{'max_depth': 20, 'min_samples_leaf': 2, 'min_samples_split': 2, 'n_estimators': 400}\n"
     ]
    }
   ],
   "source": [
    "# Or redo grid search\n",
    "param_grid = {'n_estimators': [300, 400, 500],\n",
    "              'max_depth': [10, 20, 30],\n",
    "              'min_samples_split': [2, 5, 10],\n",
    "              'min_samples_leaf': [2, 5, 10]}\n",
    "rf = RandomForestRegressor(random_state=2000)\n",
    "rf_cv_search = GridSearchCV(rf, param_grid, n_jobs=4)\n",
    "rf_cv_search.fit(data.Xtrain, data.Ytrain.flatten())\n",
    "\n",
    "print(rf_cv_search.best_score_)\n",
    "print(rf_cv_search.best_params_)\n",
    "\n",
    "with open('mvn-RF.pkl', 'wb') as f:\n",
    "    pickle.dump(rf_cv_search.best_estimator_, f)\n",
    "with open('mvn-RF_best_params.json', 'w') as f:\n",
    "    json.dump(rf_cv_search.best_params_, f)\n",
    "with open('mvn-RF.pkl', 'rb') as f:\n",
    "    rf = pickle.load(f)"
   ]
  },
  {
   "cell_type": "code",
   "execution_count": 5,
   "id": "88d5e49a",
   "metadata": {},
   "outputs": [],
   "source": [
    "def eval_most_gain(cfg, data, rf):\n",
    "    X, _ = data.generate(n=cfg['evaluation']['n_test_gain'],\n",
    "                         seed=cfg['evaluation']['seed'],\n",
    "                         most_gain=True,\n",
    "                         most_gain_samples=cfg['evaluation']['n_gain'])\n",
    "    pred = torch.from_numpy(rf.predict(X.view(-1, X.size(-1)))).float()\n",
    "    pred_avg = pred.reshape(cfg['evaluation']['n_gain'], -1).mean(dim=0)\n",
    "    most_gain = torch.square(pred_avg).mean()\n",
    "    return most_gain"
   ]
  },
  {
   "cell_type": "markdown",
   "id": "77d3fc29",
   "metadata": {},
   "source": [
    "### Run with multiple seeds for dataset"
   ]
  },
  {
   "cell_type": "code",
   "execution_count": 6,
   "id": "3fbe5a89",
   "metadata": {},
   "outputs": [],
   "source": [
    "with open('../config/runs/mvn_experiment.yaml', \"r\") as f:\n",
    "    cfg = yaml.safe_load(f)\n",
    "data = main.make_data(cfg=cfg, builder=main.mvn.build_data_generator)\n",
    "lr = LinearRegression()"
   ]
  },
  {
   "cell_type": "code",
   "execution_count": 7,
   "id": "5355e1a6",
   "metadata": {},
   "outputs": [],
   "source": [
    "def run(seed):\n",
    "    cfg['data']['seed'] = seed\n",
    "    data = main.make_data(cfg=cfg, builder=main.mvn.build_data_generator)\n",
    "    Xtest, Ytest = data.generate(n=cfg['evaluation']['n_test'], seed=seed + 1)\n",
    "    \n",
    "    rf.fit(data.Xtrain, data.Ytrain.flatten())\n",
    "    lr.fit(data.Xsemitrain[:, -data.d_X2:], rf.predict(data.Xsemitrain))\n",
    "    \n",
    "    pred_baseline = torch.from_numpy(rf.predict(Xtest))\n",
    "    pred_after = pred_baseline - lr.predict(Xtest[:, -data.d_X2:])\n",
    "\n",
    "    baseline_mse = torch.square(pred_baseline - Ytest.flatten()).mean()\n",
    "    after_mse = torch.square(pred_after - Ytest.flatten()).mean()\n",
    "\n",
    "    most_gain = eval_most_gain(cfg, data, rf)\n",
    "\n",
    "    return {'baseline': baseline_mse.item(), \n",
    "            'after': after_mse.item(),\n",
    "            'most_gain': most_gain.item()}"
   ]
  },
  {
   "cell_type": "code",
   "execution_count": 8,
   "id": "911458dc",
   "metadata": {},
   "outputs": [
    {
     "data": {
      "application/vnd.jupyter.widget-view+json": {
       "model_id": "8a7d77a75f014d1a94c123878c7095f9",
       "version_major": 2,
       "version_minor": 0
      },
      "text/plain": [
       "  0%|          | 0/100 [00:00<?, ?it/s]"
      ]
     },
     "metadata": {},
     "output_type": "display_data"
    }
   ],
   "source": [
    "scores = {'baseline': [], 'after': [], 'most_gain': []}\n",
    "for seed in tqdm.notebook.tqdm(range(1, 101)):\n",
    "    mse = run(seed)\n",
    "    scores['baseline'].append(mse['baseline'])\n",
    "    scores['after'].append(mse['after'])\n",
    "    scores['most_gain'].append(mse['most_gain'])\n",
    "\n",
    "dump_dir = '../experiments/data/outputs/seeds/mvn_experiment/RF/'\n",
    "os.makedirs(dump_dir, exist_ok=True)\n",
    "dump_path = os.path.join(dump_dir, 'scores.metrics')\n",
    "with open(dump_path, 'w') as f:\n",
    "    yaml.dump(dict(scores), f)"
   ]
  },
  {
   "cell_type": "markdown",
   "id": "cfce810f",
   "metadata": {},
   "source": [
    "### Vary number of training samples"
   ]
  },
  {
   "cell_type": "code",
   "execution_count": 9,
   "id": "12e0b918",
   "metadata": {},
   "outputs": [],
   "source": [
    "# Load config file\n",
    "with open('../config/runs/mvn_experiment.yaml', \"r\") as f:\n",
    "    cfg = yaml.safe_load(f)\n",
    "data = main.make_data(cfg=cfg, builder=main.mvn.build_data_generator)\n",
    "lr = LinearRegression()"
   ]
  },
  {
   "cell_type": "code",
   "execution_count": 10,
   "id": "fa57f763",
   "metadata": {},
   "outputs": [],
   "source": [
    "def run(n_train, seed):\n",
    "    cfg['data']['n'] = n_train\n",
    "    cfg['data']['seed'] = seed\n",
    "    data = main.make_data(cfg=cfg, builder=main.mvn.build_data_generator)\n",
    "    Xtest, Ytest = data.generate(n=cfg['evaluation']['n_test'], seed=seed + 1)\n",
    "    \n",
    "    rf.fit(data.Xtrain, data.Ytrain.flatten())\n",
    "    lr.fit(data.Xsemitrain[:, -data.d_X2:], rf.predict(data.Xsemitrain))\n",
    "    \n",
    "    pred_baseline = torch.from_numpy(rf.predict(Xtest))\n",
    "    pred_after = pred_baseline - lr.predict(Xtest[:, -data.d_X2:])\n",
    "\n",
    "    baseline_mse = torch.square(pred_baseline - Ytest.flatten()).mean()\n",
    "    after_mse = torch.square(pred_after - Ytest.flatten()).mean()\n",
    "\n",
    "    most_gain = eval_most_gain(cfg, data, rf)\n",
    "\n",
    "    return {'baseline': baseline_mse.item(), \n",
    "            'after': after_mse.item(),\n",
    "            'most_gain': most_gain.item()}"
   ]
  },
  {
   "cell_type": "code",
   "execution_count": 11,
   "id": "0c522060",
   "metadata": {},
   "outputs": [
    {
     "data": {
      "application/vnd.jupyter.widget-view+json": {
       "model_id": "18797a5925be4d44af5bd7590fb2983c",
       "version_major": 2,
       "version_minor": 0
      },
      "text/plain": [
       "  0%|          | 0/40 [00:00<?, ?it/s]"
      ]
     },
     "metadata": {},
     "output_type": "display_data"
    },
    {
     "data": {
      "application/vnd.jupyter.widget-view+json": {
       "model_id": "f4f995247cb84b80a02dc6980f0fa75f",
       "version_major": 2,
       "version_minor": 0
      },
      "text/plain": [
       "  0%|          | 0/40 [00:00<?, ?it/s]"
      ]
     },
     "metadata": {},
     "output_type": "display_data"
    },
    {
     "data": {
      "application/vnd.jupyter.widget-view+json": {
       "model_id": "45c9f931f948437dbb8f5de7b5f221a0",
       "version_major": 2,
       "version_minor": 0
      },
      "text/plain": [
       "  0%|          | 0/40 [00:00<?, ?it/s]"
      ]
     },
     "metadata": {},
     "output_type": "display_data"
    },
    {
     "data": {
      "application/vnd.jupyter.widget-view+json": {
       "model_id": "887d41d4d67f4edf8dc1e80315ff7291",
       "version_major": 2,
       "version_minor": 0
      },
      "text/plain": [
       "  0%|          | 0/40 [00:00<?, ?it/s]"
      ]
     },
     "metadata": {},
     "output_type": "display_data"
    },
    {
     "data": {
      "application/vnd.jupyter.widget-view+json": {
       "model_id": "6a8ecae4468c4ecb89d1ad59f5a4fa41",
       "version_major": 2,
       "version_minor": 0
      },
      "text/plain": [
       "  0%|          | 0/40 [00:00<?, ?it/s]"
      ]
     },
     "metadata": {},
     "output_type": "display_data"
    },
    {
     "data": {
      "application/vnd.jupyter.widget-view+json": {
       "model_id": "8e7bb25ab4974477a2f53911944f6ebe",
       "version_major": 2,
       "version_minor": 0
      },
      "text/plain": [
       "  0%|          | 0/40 [00:00<?, ?it/s]"
      ]
     },
     "metadata": {},
     "output_type": "display_data"
    },
    {
     "data": {
      "application/vnd.jupyter.widget-view+json": {
       "model_id": "972d42edf5854ccaa0b1222cc1f2d84d",
       "version_major": 2,
       "version_minor": 0
      },
      "text/plain": [
       "  0%|          | 0/40 [00:00<?, ?it/s]"
      ]
     },
     "metadata": {},
     "output_type": "display_data"
    },
    {
     "data": {
      "application/vnd.jupyter.widget-view+json": {
       "model_id": "41d87be8f8ee43b5a0e978a181860d03",
       "version_major": 2,
       "version_minor": 0
      },
      "text/plain": [
       "  0%|          | 0/40 [00:00<?, ?it/s]"
      ]
     },
     "metadata": {},
     "output_type": "display_data"
    }
   ],
   "source": [
    "scores = {'baseline':[], 'after':[], 'n_train': [], 'seed': [], 'most_gain': []}\n",
    "for n_train in [10, 20, 40, 60, 80, 100, 150, 200]:\n",
    "    for seed in tqdm.notebook.tqdm(range(1, 41)):\n",
    "        mse = run(n_train, seed)\n",
    "        scores['baseline'].append(mse['baseline'])\n",
    "        scores['after'].append(mse['after'])\n",
    "        scores['seed'].append(seed)\n",
    "        scores['n_train'].append(n_train)\n",
    "        scores['most_gain'].append(mse['most_gain'])\n",
    "dump_dir = '../experiments/data/outputs/n_train/mvn_experiment/RF/'\n",
    "os.makedirs(dump_dir, exist_ok=True)\n",
    "dump_path = os.path.join(dump_dir, 'scores.metrics')\n",
    "with open(dump_path, 'w') as f:\n",
    "    yaml.dump(dict(scores), f)"
   ]
  },
  {
   "cell_type": "markdown",
   "id": "330446c3",
   "metadata": {},
   "source": [
    "### Vary number of semi-supervised samples"
   ]
  },
  {
   "cell_type": "code",
   "execution_count": 12,
   "id": "18d1ffbe",
   "metadata": {},
   "outputs": [],
   "source": [
    "# Load config file\n",
    "with open('../config/runs/mvn_experiment.yaml', \"r\") as f:\n",
    "    cfg = yaml.safe_load(f)\n",
    "data = main.make_data(cfg=cfg, builder=main.mvn.build_data_generator)\n",
    "lr = LinearRegression()"
   ]
  },
  {
   "cell_type": "code",
   "execution_count": 13,
   "id": "15ccdece",
   "metadata": {},
   "outputs": [],
   "source": [
    "def run(semi_prop, seed):\n",
    "    cfg['data']['semi_prop'] = semi_prop\n",
    "    cfg['data']['seed'] = seed\n",
    "    data = main.make_data(cfg=cfg, builder=main.mvn.build_data_generator)\n",
    "    Xtest, Ytest = data.generate(n=cfg['evaluation']['n_test'], seed=seed + 1)\n",
    "    \n",
    "    rf.fit(data.Xtrain, data.Ytrain.flatten())\n",
    "    lr.fit(data.Xsemitrain[:, -data.d_X2:], rf.predict(data.Xsemitrain))\n",
    "    \n",
    "    pred_baseline = torch.from_numpy(rf.predict(Xtest))\n",
    "    pred_after = pred_baseline - lr.predict(Xtest[:, -data.d_X2:])\n",
    "\n",
    "    baseline_mse = torch.square(pred_baseline - Ytest.flatten()).mean()\n",
    "    after_mse = torch.square(pred_after - Ytest.flatten()).mean()\n",
    "\n",
    "    most_gain = eval_most_gain(cfg, data, rf)\n",
    "\n",
    "    return {'baseline': baseline_mse.item(), \n",
    "            'after': after_mse.item(),\n",
    "            'most_gain': most_gain.item()}"
   ]
  },
  {
   "cell_type": "code",
   "execution_count": 14,
   "id": "9eb36ac5",
   "metadata": {},
   "outputs": [
    {
     "data": {
      "application/vnd.jupyter.widget-view+json": {
       "model_id": "d33c8ff334bd446d85628cd57f9f1d1c",
       "version_major": 2,
       "version_minor": 0
      },
      "text/plain": [
       "  0%|          | 0/40 [00:00<?, ?it/s]"
      ]
     },
     "metadata": {},
     "output_type": "display_data"
    },
    {
     "data": {
      "application/vnd.jupyter.widget-view+json": {
       "model_id": "027bb622ab8b49829a26d6290b89aa85",
       "version_major": 2,
       "version_minor": 0
      },
      "text/plain": [
       "  0%|          | 0/40 [00:00<?, ?it/s]"
      ]
     },
     "metadata": {},
     "output_type": "display_data"
    },
    {
     "data": {
      "application/vnd.jupyter.widget-view+json": {
       "model_id": "601ae69c4c374243851bc06951c53858",
       "version_major": 2,
       "version_minor": 0
      },
      "text/plain": [
       "  0%|          | 0/40 [00:00<?, ?it/s]"
      ]
     },
     "metadata": {},
     "output_type": "display_data"
    },
    {
     "data": {
      "application/vnd.jupyter.widget-view+json": {
       "model_id": "9b8829df53964841bef4555b358b9c5e",
       "version_major": 2,
       "version_minor": 0
      },
      "text/plain": [
       "  0%|          | 0/40 [00:00<?, ?it/s]"
      ]
     },
     "metadata": {},
     "output_type": "display_data"
    },
    {
     "data": {
      "application/vnd.jupyter.widget-view+json": {
       "model_id": "f5c781384e56412c875b8e277c853a3c",
       "version_major": 2,
       "version_minor": 0
      },
      "text/plain": [
       "  0%|          | 0/40 [00:00<?, ?it/s]"
      ]
     },
     "metadata": {},
     "output_type": "display_data"
    },
    {
     "data": {
      "application/vnd.jupyter.widget-view+json": {
       "model_id": "50f379dd33334c84b213f63ed3a1f3a6",
       "version_major": 2,
       "version_minor": 0
      },
      "text/plain": [
       "  0%|          | 0/40 [00:00<?, ?it/s]"
      ]
     },
     "metadata": {},
     "output_type": "display_data"
    },
    {
     "data": {
      "application/vnd.jupyter.widget-view+json": {
       "model_id": "472b868e178a4419a73dc5ee49ce7d6d",
       "version_major": 2,
       "version_minor": 0
      },
      "text/plain": [
       "  0%|          | 0/40 [00:00<?, ?it/s]"
      ]
     },
     "metadata": {},
     "output_type": "display_data"
    },
    {
     "data": {
      "application/vnd.jupyter.widget-view+json": {
       "model_id": "f9a235aca6194e28857073277c31d5fe",
       "version_major": 2,
       "version_minor": 0
      },
      "text/plain": [
       "  0%|          | 0/40 [00:00<?, ?it/s]"
      ]
     },
     "metadata": {},
     "output_type": "display_data"
    },
    {
     "data": {
      "application/vnd.jupyter.widget-view+json": {
       "model_id": "6258b6740fb948d68adcae07274ad77d",
       "version_major": 2,
       "version_minor": 0
      },
      "text/plain": [
       "  0%|          | 0/40 [00:00<?, ?it/s]"
      ]
     },
     "metadata": {},
     "output_type": "display_data"
    }
   ],
   "source": [
    "scores = {'baseline':[], 'after':[], 'semi_prop': [], 'seed': [], 'most_gain': []}\n",
    "for semi_prop in [0, 25, 50, 100, 200, 400, 600, 800, 1000]:\n",
    "    for seed in tqdm.notebook.tqdm(range(1, 41)):\n",
    "        mse = run(semi_prop, seed)\n",
    "        scores['baseline'].append(mse['baseline'])\n",
    "        scores['after'].append(mse['after'])\n",
    "        scores['seed'].append(seed)\n",
    "        scores['semi_prop'].append(semi_prop)\n",
    "        scores['most_gain'].append(mse['most_gain'])\n",
    "dump_dir = '../experiments/data/outputs/semi_prop/mvn_experiment/RF/'\n",
    "os.makedirs(dump_dir, exist_ok=True)\n",
    "dump_path = os.path.join(dump_dir, 'scores.metrics')\n",
    "with open(dump_path, 'w') as f:\n",
    "    yaml.dump(dict(scores), f)"
   ]
  },
  {
   "cell_type": "markdown",
   "id": "38789197",
   "metadata": {},
   "source": [
    "### Vary dimensionality of $X_2$"
   ]
  },
  {
   "cell_type": "code",
   "execution_count": 17,
   "id": "ce83b5b8",
   "metadata": {},
   "outputs": [],
   "source": [
    "# Load config file\n",
    "with open('../config/runs/mvn_experiment.yaml', \"r\") as f:\n",
    "    cfg = yaml.safe_load(f)\n",
    "data = main.make_data(cfg=cfg, builder=main.mvn.build_data_generator)\n",
    "with open('RF_best_params.json', 'r') as f:\n",
    "    rf_params = json.load(f)"
   ]
  },
  {
   "cell_type": "code",
   "execution_count": 18,
   "id": "8f3c371a",
   "metadata": {},
   "outputs": [],
   "source": [
    "def run(d_X2, seed):\n",
    "    cfg['data']['d_X2'] = d_X2\n",
    "    cfg['data']['seed'] = seed\n",
    "    data = main.make_data(cfg=cfg, builder=main.mvn.build_data_generator)\n",
    "    Xtest, Ytest = data.generate(n=cfg['evaluation']['n_test'], seed=seed + 1)\n",
    "    \n",
    "    local_rf = RandomForestRegressor(random_state=2000, **rf_params)\n",
    "    lr = LinearRegression()\n",
    "\n",
    "    local_rf.fit(data.Xtrain, data.Ytrain.flatten())\n",
    "    lr.fit(data.Xsemitrain[:, -data.d_X2:], local_rf.predict(data.Xsemitrain))\n",
    "    \n",
    "    pred_baseline = torch.from_numpy(local_rf.predict(Xtest))\n",
    "    pred_after = pred_baseline - lr.predict(Xtest[:, -data.d_X2:])\n",
    "\n",
    "    baseline_mse = torch.square(pred_baseline - Ytest.flatten()).mean()\n",
    "    after_mse = torch.square(pred_after - Ytest.flatten()).mean()\n",
    "\n",
    "    most_gain = eval_most_gain(cfg, data, local_rf)\n",
    "\n",
    "    return {'baseline': baseline_mse.item(), \n",
    "            'after': after_mse.item(),\n",
    "            'most_gain': most_gain.item()}"
   ]
  },
  {
   "cell_type": "code",
   "execution_count": 19,
   "id": "3274eac9",
   "metadata": {},
   "outputs": [
    {
     "data": {
      "application/vnd.jupyter.widget-view+json": {
       "model_id": "185a62cc0e114843813872717413b1dc",
       "version_major": 2,
       "version_minor": 0
      },
      "text/plain": [
       "  0%|          | 0/40 [00:00<?, ?it/s]"
      ]
     },
     "metadata": {},
     "output_type": "display_data"
    },
    {
     "data": {
      "application/vnd.jupyter.widget-view+json": {
       "model_id": "97a113bc72b645f3836411b0e8d4107b",
       "version_major": 2,
       "version_minor": 0
      },
      "text/plain": [
       "  0%|          | 0/40 [00:00<?, ?it/s]"
      ]
     },
     "metadata": {},
     "output_type": "display_data"
    },
    {
     "data": {
      "application/vnd.jupyter.widget-view+json": {
       "model_id": "ec56d39569014438bc33820b500f5ba1",
       "version_major": 2,
       "version_minor": 0
      },
      "text/plain": [
       "  0%|          | 0/40 [00:00<?, ?it/s]"
      ]
     },
     "metadata": {},
     "output_type": "display_data"
    },
    {
     "data": {
      "application/vnd.jupyter.widget-view+json": {
       "model_id": "2ad41449ec4745ac94096515552b08ed",
       "version_major": 2,
       "version_minor": 0
      },
      "text/plain": [
       "  0%|          | 0/40 [00:00<?, ?it/s]"
      ]
     },
     "metadata": {},
     "output_type": "display_data"
    },
    {
     "data": {
      "application/vnd.jupyter.widget-view+json": {
       "model_id": "23c270748bee4c71871369e74d8c6afd",
       "version_major": 2,
       "version_minor": 0
      },
      "text/plain": [
       "  0%|          | 0/40 [00:00<?, ?it/s]"
      ]
     },
     "metadata": {},
     "output_type": "display_data"
    },
    {
     "data": {
      "application/vnd.jupyter.widget-view+json": {
       "model_id": "da7d123f9bb242679f7078c9f4ad8244",
       "version_major": 2,
       "version_minor": 0
      },
      "text/plain": [
       "  0%|          | 0/40 [00:00<?, ?it/s]"
      ]
     },
     "metadata": {},
     "output_type": "display_data"
    },
    {
     "data": {
      "application/vnd.jupyter.widget-view+json": {
       "model_id": "bf6b7c945bff433080f089801ae9133a",
       "version_major": 2,
       "version_minor": 0
      },
      "text/plain": [
       "  0%|          | 0/40 [00:00<?, ?it/s]"
      ]
     },
     "metadata": {},
     "output_type": "display_data"
    },
    {
     "data": {
      "application/vnd.jupyter.widget-view+json": {
       "model_id": "5b60973ff08d4e9ab156754f530b3d5d",
       "version_major": 2,
       "version_minor": 0
      },
      "text/plain": [
       "  0%|          | 0/40 [00:00<?, ?it/s]"
      ]
     },
     "metadata": {},
     "output_type": "display_data"
    }
   ],
   "source": [
    "scores = {'baseline':[], 'after':[], 'd_X2': [], 'seed': [], 'most_gain': []}\n",
    "for d_X2 in [1, 2, 3, 4, 5, 6, 7, 8]:\n",
    "    for seed in tqdm.notebook.tqdm(range(1, 41)):\n",
    "        mse = run(d_X2, seed)\n",
    "        scores['baseline'].append(mse['baseline'])\n",
    "        scores['after'].append(mse['after'])\n",
    "        scores['seed'].append(seed)\n",
    "        scores['d_X2'].append(d_X2)\n",
    "        scores['most_gain'].append(mse['most_gain'])\n",
    "dump_dir = '../experiments/data/outputs/d_X2/mvn_experiment/RF/'\n",
    "os.makedirs(dump_dir, exist_ok=True)\n",
    "dump_path = os.path.join(dump_dir, 'scores.metrics')\n",
    "with open(dump_path, 'w') as f:\n",
    "    yaml.dump(dict(scores), f)"
   ]
  },
  {
   "cell_type": "code",
   "execution_count": null,
   "id": "edcf6519",
   "metadata": {},
   "outputs": [],
   "source": []
  }
 ],
 "metadata": {
  "kernelspec": {
   "display_name": "sandbox",
   "language": "python",
   "name": "sandbox"
  },
  "language_info": {
   "codemirror_mode": {
    "name": "ipython",
    "version": 3
   },
   "file_extension": ".py",
   "mimetype": "text/x-python",
   "name": "python",
   "nbconvert_exporter": "python",
   "pygments_lexer": "ipython3",
   "version": "3.8.0"
  }
 },
 "nbformat": 4,
 "nbformat_minor": 5
}
